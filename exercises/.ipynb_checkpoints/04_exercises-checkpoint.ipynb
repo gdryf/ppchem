{
 "cells": [
  {
   "cell_type": "markdown",
   "metadata": {},
   "source": [
    "# Week 4: Numerical operations, data handling, data visualization\n",
    "\n",
    "\n",
    "**Setup**: make sure you've completed the instructions in the README for this week!\n",
    "\n",
    "\n",
    "This exercise attempts to be a pedagogical introduction to some key libraries in\n",
    "scientific programming.  \n",
    "\n",
    "Unlike the wet lab, it is very hard to break things or blow things up in a notebook. To\n",
    "get the most of these coding exercises, try things out and experiment with the code!\n",
    "\n",
    "Learning some cool things usually starts with a question \n",
    "\n",
    "\n",
    "## 0. Introduction\n",
    "\n",
    "Numpy, pandas, and matplotlib are three of the most widely used libraries in the Python\n",
    "data science ecosystem. Each serves a distinct purpose in data manipulation, analysis,\n",
    "and visualization, making them indispensable tools for scientists, including those in\n",
    "the chemical sciences.\n",
    "\n",
    "* `numpy` is used for efficient array operations and matrix manipulation, and statistical\n",
    "functions.\n",
    "* `pandas` is used for making data tables, and reading, writing and manipulation from\n",
    "  them.\n",
    "* `matplotlib` is used for creating high quality plots and figures.\n",
    "\n",
    "\n",
    "Each will be covered in more detail below. But first, we need to import these modules.\n",
    "With `import x as y` below, we import the package `x` with an ***alias*** `y`. The\n",
    "aliases shown below are community conventions for these packages (i.e. `np` for numpy,\n",
    "`pd` for `pandas` and `plt` for matplotlib). \n",
    "\n",
    "These are important to be aware of, as oftentimes help pages online (for instance, if\n",
    "you are trying to find a solution to a problem on Stack Exchange) may use these\n",
    "aliases without explanation."
   ]
  },
  {
   "cell_type": "code",
   "execution_count": 1,
   "metadata": {},
   "outputs": [],
   "source": [
    "import matplotlib.pyplot as plt\n",
    "import numpy as np\n",
    "import pandas as pd"
   ]
  },
  {
   "cell_type": "markdown",
   "metadata": {},
   "source": [
    "**Note:** if you get a `ModuleNotFound` error, make sure you have gone through this\n",
    "week's README first!"
   ]
  },
  {
   "cell_type": "markdown",
   "metadata": {},
   "source": [
    "## 1. Numerical operations with `numpy`\n",
    "\n",
    "**What is is**: Numpy (Numerical Python) is a library for numerical computing in Python.\n",
    "It provides support for large, multi-dimensional arrays and matrices, along with a\n",
    "collection of mathematical functions to operate on these arrays efficiently.\n",
    "\n",
    "**Why it's used**: Numpy is fundamental for scientific computing due to its powerful\n",
    "data structures, which enable high-performance calculations and data analysis. It serves\n",
    "as the backbone for many other Python data analysis libraries, including pandas and many\n",
    "machine learning frameworks.\n",
    "\n",
    "**Usefulness in Chemical Science**: In chemistry, numpy is essential for handling\n",
    "numerical data such as molecular structures, quantum mechanical properties, and large\n",
    "datasets generated from simulations or experimental measurements. Its efficiency in\n",
    "performing vectorized operations makes it ideal for computational chemistry tasks,\n",
    "including molecular dynamics simulations and numerical analysis."
   ]
  },
  {
   "cell_type": "markdown",
   "metadata": {},
   "source": [
    "### Vectorized operations: faster than `for` loops\n",
    "\n",
    "In previous exercises, you were introduced to for loops as a way to repeatedly execute a\n",
    "block of code for a specified number of times or over a sequence. NumPy operations allow\n",
    "for vectorized processing of data arrays, often replacing the need for for loops with\n",
    "more efficient and concise array-based calculations. They work by ***parallelizing**\n",
    "operations.\n",
    "\n",
    "**Introduction to `%%timeit`**: The `%%timeit` magic command in Jupyter Notebooks is\n",
    "used to measure the execution time of a code block. It runs the code several times in a\n",
    "loop to get an accurate average time, helping you understand the performance of your\n",
    "code. This is particularly useful when comparing the speed of different approaches to\n",
    "solving the same problem.\n",
    "\n",
    "Let's compare the time it takes to sum elements in a list, with for-loops versus\n",
    "`numpy`.\n",
    "\n",
    "First, create a large list as the following, which gives a list of the form `[0, 1, ...,\n",
    "999998, 999999]"
   ]
  },
  {
   "cell_type": "code",
   "execution_count": 2,
   "metadata": {},
   "outputs": [
    {
     "name": "stdout",
     "output_type": "stream",
     "text": [
      "[0, 1, 2, 3, 4]\n",
      "[999995, 999996, 999997, 999998, 999999]\n"
     ]
    }
   ],
   "source": [
    "num_elements = 1000000\n",
    "large_list = list(range(num_elements))\n",
    "\n",
    "print(large_list[:5])  # list indexing as usual\n",
    "print(large_list[-5:])"
   ]
  },
  {
   "cell_type": "markdown",
   "metadata": {},
   "source": [
    "Create functions to sum the elements in the list. For the `numpy` version, we use the\n",
    "function `np.sum` to sum the elements in the list. When using a function from an\n",
    "external module, it is a good idea to read the documentation to understand what it does.\n",
    "\n",
    "In jupyter notebooks, you can write the name of the function followed by `?` to print\n",
    "the documentation. There's a lot going here, but the important part is the signature and\n",
    "the description:\n",
    "```\n",
    "Signature:      \n",
    "np.sum(\n",
    "    a,\n",
    "    axis=None,\n",
    "    dtype=None,\n",
    "    out=None,\n",
    "    keepdims=<no value>,\n",
    "    initial=<no value>,\n",
    "    where=<no value>,\n",
    ")\n",
    "...\n",
    "Sum of array elements over a given axis.\n",
    "```\n",
    "\n",
    "You can also find the docs online. Google: \"numpy sum\" and navigate to (hopefully) the\n",
    "top result, i.e. https://numpy.org/doc/stable/reference/generated/numpy.sum.html"
   ]
  },
  {
   "cell_type": "code",
   "execution_count": 3,
   "metadata": {},
   "outputs": [],
   "source": [
    "np.sum?"
   ]
  },
  {
   "cell_type": "code",
   "execution_count": 4,
   "metadata": {},
   "outputs": [],
   "source": [
    "# Python for loops\n",
    "def sum_python_loop(data) -> float:\n",
    "    \"\"\"Sum the elements in `data` using a for loop\"\"\"\n",
    "    total = 0\n",
    "    for x in data:\n",
    "        total += x\n",
    "    return total\n",
    "\n",
    "\n",
    "# Numpy sum\n",
    "def sum_numpy(data) -> float:\n",
    "    \"\"\"Sum the elements in `data` using numpy\"\"\"\n",
    "    return np.sum(data)"
   ]
  },
  {
   "cell_type": "markdown",
   "metadata": {},
   "source": [
    "Now uncomment the cells below and run them. What do you notice about the timings?"
   ]
  },
  {
   "cell_type": "code",
   "execution_count": 11,
   "metadata": {},
   "outputs": [
    {
     "name": "stdout",
     "output_type": "stream",
     "text": [
      "125 ms ± 1.27 ms per loop (mean ± std. dev. of 7 runs, 10 loops each)\n"
     ]
    }
   ],
   "source": [
    "%%timeit\n",
    "sum_python_loop(large_list)"
   ]
  },
  {
   "cell_type": "code",
   "execution_count": 12,
   "metadata": {},
   "outputs": [
    {
     "name": "stdout",
     "output_type": "stream",
     "text": [
      "128 ms ± 9.76 ms per loop (mean ± std. dev. of 7 runs, 10 loops each)\n"
     ]
    }
   ],
   "source": [
    "%%timeit\n",
    "sum_numpy(large_list)"
   ]
  },
  {
   "cell_type": "markdown",
   "metadata": {},
   "source": [
    "Hmmm, it appears that the Python for loop is faster here! Why? Aren't vectorized\n",
    "operations supposed to be quicker than for loops?\n",
    "\n",
    "Let's try again, but instead of summing elements in a list let's store our data in a\n",
    "numpy `array` instead. Here we used the `np.arange` function to generate an array of\n",
    "integers in the range `0, ... (n_elements - 1)`"
   ]
  },
  {
   "cell_type": "code",
   "execution_count": 13,
   "metadata": {},
   "outputs": [
    {
     "name": "stdout",
     "output_type": "stream",
     "text": [
      "[0 1 2 3 4]\n",
      "[999995 999996 999997 999998 999999]\n"
     ]
    }
   ],
   "source": [
    "large_array = np.arange(num_elements)\n",
    "\n",
    "print(large_array[:5])  # array indexing just like list indexing\n",
    "print(large_array[-5:])"
   ]
  },
  {
   "cell_type": "code",
   "execution_count": 14,
   "metadata": {},
   "outputs": [
    {
     "name": "stderr",
     "output_type": "stream",
     "text": [
      "C:\\Users\\gilli\\AppData\\Local\\Temp\\ipykernel_18388\\2873618824.py:6: RuntimeWarning: overflow encountered in scalar add\n",
      "  total += x\n"
     ]
    },
    {
     "name": "stdout",
     "output_type": "stream",
     "text": [
      "243 ms ± 7.71 ms per loop (mean ± std. dev. of 7 runs, 1 loop each)\n"
     ]
    }
   ],
   "source": [
    "%%timeit\n",
    "sum_python_loop(large_array)"
   ]
  },
  {
   "cell_type": "code",
   "execution_count": 15,
   "metadata": {},
   "outputs": [
    {
     "name": "stdout",
     "output_type": "stream",
     "text": [
      "935 µs ± 103 µs per loop (mean ± std. dev. of 7 runs, 1,000 loops each)\n"
     ]
    }
   ],
   "source": [
    "%%timeit\n",
    "sum_numpy(large_array)"
   ]
  },
  {
   "cell_type": "markdown",
   "metadata": {},
   "source": [
    "Much better!\n",
    "\n",
    "In the first example, the `np.sum` function first converts the list in `large_list` to a\n",
    "numpy `array`, which has a large associated overhead cost. This makes the timings\n",
    "comparable between the for loop approach and the numpy approach. However, by first\n",
    "storing our data in a `np.array` in the second example, we gain access to the efficient\n",
    "array operations in `numpy`. If we store and pass around data in numpy arrays in all of\n",
    "our programs, we only have to consider the overhead costs once.\n",
    "\n",
    "In general, Python lists are versatile and useful: they can be dynamically-sized and\n",
    "collect together elements with different data types.\n",
    "\n",
    "However, if we are dealing with data whose size we know, and whose data types are\n",
    "homogenous (in this case `int`), using instead a NumPy array will give us far enhanced\n",
    "performance in numerical computations versus for loops. For specific applications in\n",
    "chemistry that are computation-intensive, like data analysis, visualization, and machine\n",
    "learning, we often want to work with arrays.\n",
    "\n",
    "Let's explore more examples of array-based operations with numpy.\n",
    "\n",
    "\n",
    "### Summing lists / arrays\n",
    "\n",
    "Let's create two lists of the same size and sum them element-wise"
   ]
  },
  {
   "cell_type": "code",
   "execution_count": 16,
   "metadata": {},
   "outputs": [],
   "source": [
    "list_a = list(range(1000000))\n",
    "list_b = list(range(1, 1000001))\n",
    "\n",
    "def add_python_loop(list1: list, list2: list) -> list:\n",
    "    return [x + y for x, y in zip(list1, list2)]"
   ]
  },
  {
   "cell_type": "code",
   "execution_count": 17,
   "metadata": {},
   "outputs": [
    {
     "name": "stdout",
     "output_type": "stream",
     "text": [
      "[1, 3, 5, 7, 9, 11, 13, 15, 17, 19]\n"
     ]
    }
   ],
   "source": [
    "# See what the function returns\n",
    "new_list = add_python_loop(list_a, list_b)\n",
    "print(new_list[:10])"
   ]
  },
  {
   "cell_type": "code",
   "execution_count": 18,
   "metadata": {},
   "outputs": [
    {
     "name": "stdout",
     "output_type": "stream",
     "text": [
      "227 ms ± 2.46 ms per loop (mean ± std. dev. of 7 runs, 1 loop each)\n"
     ]
    }
   ],
   "source": [
    "%%timeit  # now time it\n",
    "add_python_loop(list_a, list_b)"
   ]
  },
  {
   "cell_type": "code",
   "execution_count": 19,
   "metadata": {},
   "outputs": [],
   "source": [
    "array_a = np.arange(1000000)  # integers from 0 to 999999\n",
    "array_b = np.arange(1, 1000001)  # integers from 1 to 1000000\n",
    "\n",
    "def add_numpy_arrays(array_1: np.ndarray, array_2: np.ndarray) -> np.ndarray:\n",
    "    return array_1 + array_2  # you can just use the + operator here!"
   ]
  },
  {
   "cell_type": "code",
   "execution_count": 20,
   "metadata": {},
   "outputs": [
    {
     "name": "stdout",
     "output_type": "stream",
     "text": [
      "[ 1  3  5  7  9 11 13 15 17 19]\n",
      "(1000000,) (1000000,) (1000000,)\n"
     ]
    }
   ],
   "source": [
    "# See what the function returns\n",
    "new_array = add_numpy_arrays(array_a, array_b)\n",
    "print(new_array[:10])\n",
    "\n",
    "# Use the `.shape` attribute to see the shapes of the arrays\n",
    "print(array_a.shape, array_b.shape, new_array.shape)"
   ]
  },
  {
   "cell_type": "code",
   "execution_count": 21,
   "metadata": {},
   "outputs": [
    {
     "name": "stdout",
     "output_type": "stream",
     "text": [
      "4.15 ms ± 44.9 µs per loop (mean ± std. dev. of 7 runs, 100 loops each)\n"
     ]
    }
   ],
   "source": [
    "%%timeit  # now time it\n",
    "add_numpy_arrays(array_a, array_b)"
   ]
  },
  {
   "cell_type": "markdown",
   "metadata": {},
   "source": [
    "### Initializing numpy arrays\n",
    "\n",
    "In NumPy, multi-dimensional arrays (also known as ndarrays) are the foundation for most\n",
    "of the library's operations, allowing you to efficiently store and manipulate data\n",
    "across multiple dimensions. Creating multi-dimensional arrays in NumPy is\n",
    "straightforward, enabling the handling of complex data structures like matrices for\n",
    "linear algebra, tensors for machine learning, or grids for scientific computing.\n",
    "\n",
    "You can create multi-dimensional arrays in NumPy using various methods, including\n",
    "np.array, np.zeros, np.ones, and np.arange, among others. Here are some examples to get\n",
    "you started:"
   ]
  },
  {
   "cell_type": "code",
   "execution_count": 22,
   "metadata": {},
   "outputs": [
    {
     "name": "stdout",
     "output_type": "stream",
     "text": [
      "[[1 2 3]\n",
      " [4 5 6]]\n",
      "[[0. 0. 0.]\n",
      " [0. 0. 0.]]\n",
      "[[[1. 1. 1.]\n",
      "  [1. 1. 1.]\n",
      "  [1. 1. 1.]]\n",
      "\n",
      " [[1. 1. 1.]\n",
      "  [1. 1. 1.]\n",
      "  [1. 1. 1.]]\n",
      "\n",
      " [[1. 1. 1.]\n",
      "  [1. 1. 1.]\n",
      "  [1. 1. 1.]]]\n",
      "[[ 0  1  2  3]\n",
      " [ 4  5  6  7]\n",
      " [ 8  9 10 11]]\n"
     ]
    }
   ],
   "source": [
    "# Create a 2D array (matrix)\n",
    "matrix = np.array([[1, 2, 3], [4, 5, 6]])\n",
    "print(matrix)\n",
    "\n",
    "# Create a 2x3 array of zeros\n",
    "zeros_array = np.zeros((2, 3))\n",
    "print(zeros_array)\n",
    "\n",
    "# Create a 3x3x3 array of ones\n",
    "ones_array = np.ones((3, 3, 3))\n",
    "print(ones_array)\n",
    "\n",
    "# Create a 3x4 array with a range of numbers\n",
    "range_array = np.arange(12).reshape(3, 4)\n",
    "print(range_array)"
   ]
  },
  {
   "cell_type": "markdown",
   "metadata": {},
   "source": [
    "Often, you'll need to reshape an array into a different dimension. This is done using\n",
    "the .reshape() method, which allows you to specify the new shape as long as the total\n",
    "number of elements remains the same."
   ]
  },
  {
   "cell_type": "code",
   "execution_count": 23,
   "metadata": {},
   "outputs": [
    {
     "name": "stdout",
     "output_type": "stream",
     "text": [
      "[0 1 2 3 4 5]\n",
      "[[0 1 2]\n",
      " [3 4 5]]\n"
     ]
    }
   ],
   "source": [
    "# Reshape a 1D array into a 2D array\n",
    "one_d_array = np.arange(6)\n",
    "two_d_array = one_d_array.reshape((2, 3))\n",
    "print(one_d_array)\n",
    "print(two_d_array)"
   ]
  },
  {
   "cell_type": "markdown",
   "metadata": {},
   "source": [
    "### Reading from file into numpy arrays\n",
    "\n",
    "To illustrate how to read chemical data from a file using `np.loadtxt`, let's consider a\n",
    "simple example where we have a file containing molecular weights of several compounds,\n",
    "stored in the file \"molecular_weights.txt\". \n",
    "\n",
    "The data file is organized with the name of the compound in one column and its molecular\n",
    "weight in the other. For this example, let's assume we are only interested in the\n",
    "numerical data (molecular weights) and that our data file is structured with comments\n",
    "marked by \"#\" and values separated by commas."
   ]
  },
  {
   "cell_type": "code",
   "execution_count": 28,
   "metadata": {},
   "outputs": [
    {
     "ename": "ValueError",
     "evalue": "could not convert string 'Water' to float64 at row 0, column 1.",
     "output_type": "error",
     "traceback": [
      "\u001b[1;31m---------------------------------------------------------------------------\u001b[0m",
      "\u001b[1;31mValueError\u001b[0m                                Traceback (most recent call last)",
      "\u001b[1;31mValueError\u001b[0m: could not convert string to float: 'Water'",
      "\nThe above exception was the direct cause of the following exception:\n",
      "\u001b[1;31mValueError\u001b[0m                                Traceback (most recent call last)",
      "Cell \u001b[1;32mIn[28], line 7\u001b[0m\n\u001b[0;32m      2\u001b[0m file_path \u001b[38;5;241m=\u001b[39m \u001b[38;5;124m'\u001b[39m\u001b[38;5;124mmolecular_data.txt\u001b[39m\u001b[38;5;124m'\u001b[39m\n\u001b[0;32m      4\u001b[0m \u001b[38;5;66;03m# Note that if we try to load the entire file into a single array, we'll get an error as\u001b[39;00m\n\u001b[0;32m      5\u001b[0m \u001b[38;5;66;03m# the file contains both strings and floats. Here, we use delimiter=',' to handle the\u001b[39;00m\n\u001b[0;32m      6\u001b[0m \u001b[38;5;66;03m# comma-separated values\u001b[39;00m\n\u001b[1;32m----> 7\u001b[0m np\u001b[38;5;241m.\u001b[39mloadtxt(file_path, delimiter\u001b[38;5;241m=\u001b[39m\u001b[38;5;124m'\u001b[39m\u001b[38;5;124m,\u001b[39m\u001b[38;5;124m'\u001b[39m, skiprows\u001b[38;5;241m=\u001b[39m\u001b[38;5;241m1\u001b[39m)\n",
      "File \u001b[1;32m~\\anaconda3\\Lib\\site-packages\\numpy\\lib\\npyio.py:1356\u001b[0m, in \u001b[0;36mloadtxt\u001b[1;34m(fname, dtype, comments, delimiter, converters, skiprows, usecols, unpack, ndmin, encoding, max_rows, quotechar, like)\u001b[0m\n\u001b[0;32m   1353\u001b[0m \u001b[38;5;28;01mif\u001b[39;00m \u001b[38;5;28misinstance\u001b[39m(delimiter, \u001b[38;5;28mbytes\u001b[39m):\n\u001b[0;32m   1354\u001b[0m     delimiter \u001b[38;5;241m=\u001b[39m delimiter\u001b[38;5;241m.\u001b[39mdecode(\u001b[38;5;124m'\u001b[39m\u001b[38;5;124mlatin1\u001b[39m\u001b[38;5;124m'\u001b[39m)\n\u001b[1;32m-> 1356\u001b[0m arr \u001b[38;5;241m=\u001b[39m _read(fname, dtype\u001b[38;5;241m=\u001b[39mdtype, comment\u001b[38;5;241m=\u001b[39mcomment, delimiter\u001b[38;5;241m=\u001b[39mdelimiter,\n\u001b[0;32m   1357\u001b[0m             converters\u001b[38;5;241m=\u001b[39mconverters, skiplines\u001b[38;5;241m=\u001b[39mskiprows, usecols\u001b[38;5;241m=\u001b[39musecols,\n\u001b[0;32m   1358\u001b[0m             unpack\u001b[38;5;241m=\u001b[39munpack, ndmin\u001b[38;5;241m=\u001b[39mndmin, encoding\u001b[38;5;241m=\u001b[39mencoding,\n\u001b[0;32m   1359\u001b[0m             max_rows\u001b[38;5;241m=\u001b[39mmax_rows, quote\u001b[38;5;241m=\u001b[39mquotechar)\n\u001b[0;32m   1361\u001b[0m \u001b[38;5;28;01mreturn\u001b[39;00m arr\n",
      "File \u001b[1;32m~\\anaconda3\\Lib\\site-packages\\numpy\\lib\\npyio.py:999\u001b[0m, in \u001b[0;36m_read\u001b[1;34m(fname, delimiter, comment, quote, imaginary_unit, usecols, skiplines, max_rows, converters, ndmin, unpack, dtype, encoding)\u001b[0m\n\u001b[0;32m    996\u001b[0m     data \u001b[38;5;241m=\u001b[39m _preprocess_comments(data, comments, encoding)\n\u001b[0;32m    998\u001b[0m \u001b[38;5;28;01mif\u001b[39;00m read_dtype_via_object_chunks \u001b[38;5;129;01mis\u001b[39;00m \u001b[38;5;28;01mNone\u001b[39;00m:\n\u001b[1;32m--> 999\u001b[0m     arr \u001b[38;5;241m=\u001b[39m _load_from_filelike(\n\u001b[0;32m   1000\u001b[0m         data, delimiter\u001b[38;5;241m=\u001b[39mdelimiter, comment\u001b[38;5;241m=\u001b[39mcomment, quote\u001b[38;5;241m=\u001b[39mquote,\n\u001b[0;32m   1001\u001b[0m         imaginary_unit\u001b[38;5;241m=\u001b[39mimaginary_unit,\n\u001b[0;32m   1002\u001b[0m         usecols\u001b[38;5;241m=\u001b[39musecols, skiplines\u001b[38;5;241m=\u001b[39mskiplines, max_rows\u001b[38;5;241m=\u001b[39mmax_rows,\n\u001b[0;32m   1003\u001b[0m         converters\u001b[38;5;241m=\u001b[39mconverters, dtype\u001b[38;5;241m=\u001b[39mdtype,\n\u001b[0;32m   1004\u001b[0m         encoding\u001b[38;5;241m=\u001b[39mencoding, filelike\u001b[38;5;241m=\u001b[39mfilelike,\n\u001b[0;32m   1005\u001b[0m         byte_converters\u001b[38;5;241m=\u001b[39mbyte_converters)\n\u001b[0;32m   1007\u001b[0m \u001b[38;5;28;01melse\u001b[39;00m:\n\u001b[0;32m   1008\u001b[0m     \u001b[38;5;66;03m# This branch reads the file into chunks of object arrays and then\u001b[39;00m\n\u001b[0;32m   1009\u001b[0m     \u001b[38;5;66;03m# casts them to the desired actual dtype.  This ensures correct\u001b[39;00m\n\u001b[0;32m   1010\u001b[0m     \u001b[38;5;66;03m# string-length and datetime-unit discovery (like `arr.astype()`).\u001b[39;00m\n\u001b[0;32m   1011\u001b[0m     \u001b[38;5;66;03m# Due to chunking, certain error reports are less clear, currently.\u001b[39;00m\n\u001b[0;32m   1012\u001b[0m     \u001b[38;5;28;01mif\u001b[39;00m filelike:\n",
      "\u001b[1;31mValueError\u001b[0m: could not convert string 'Water' to float64 at row 0, column 1."
     ]
    }
   ],
   "source": [
    "# Path to the data file\n",
    "file_path = 'molecular_data.txt'\n",
    "\n",
    "# Note that if we try to load the entire file into a single array, we'll get an error as\n",
    "# the file contains both strings and floats. Here, we use delimiter=',' to handle the\n",
    "# comma-separated values\n",
    "np.loadtxt(file_path, delimiter=',', skiprows=1)"
   ]
  },
  {
   "cell_type": "code",
   "execution_count": 27,
   "metadata": {},
   "outputs": [
    {
     "data": {
      "text/plain": [
       "array([['Water', '18.015', '100.0'],\n",
       "       ['Carbon Dioxide', '44.01', '-78.5'],\n",
       "       ['Methane', '16.04', '-161.5'],\n",
       "       ['Ethanol', '46.07', '78.3'],\n",
       "       ['Oxygen', '32.00', '-183.0'],\n",
       "       ['Nitrogen', '28.01', '-196.0'],\n",
       "       ['Hydrogen Peroxide', '34.01', '150.2'],\n",
       "       ['Ammonia', '17.03', '-33.3'],\n",
       "       ['Sulfuric Acid', '98.09', '337.0'],\n",
       "       ['Acetic Acid', '60.05', '118.1'],\n",
       "       ['Methanol', '32.04', '64.7'],\n",
       "       ['Benzene', '78.11', '80.1'],\n",
       "       ['Ethylene', '28.05', '-103.7'],\n",
       "       ['Propane', '44.10', '-42.1'],\n",
       "       ['Butane', '58.12', '-0.5'],\n",
       "       ['Pentane', '72.15', '36.1'],\n",
       "       ['Hexane', '86.18', '68.7'],\n",
       "       ['Heptane', '100.20', '98.4'],\n",
       "       ['Octane', '114.22', '125.7'],\n",
       "       ['Nonane', '128.25', '150.8'],\n",
       "       ['Decane', '142.28', '174.1'],\n",
       "       ['Caffeine', '194.19', '178.0'],\n",
       "       ['Ethane', '30.07', '-88.6']], dtype='<U17')"
      ]
     },
     "execution_count": 27,
     "metadata": {},
     "output_type": "execute_result"
    }
   ],
   "source": [
    "# As numpy arrays must be homogenously typed, i.e. we can't mix strings and floats. We\n",
    "# can pass the `dtype` argument to `np.loadtxt` to specify the data type of the array,\n",
    "# ensuring everything is loaded as strings. However, this perhaps isn't so useful as we\n",
    "# want the molecular weights as floats.\n",
    "np.loadtxt(file_path, delimiter=',', skiprows=1, dtype=str)"
   ]
  },
  {
   "cell_type": "code",
   "execution_count": 29,
   "metadata": {},
   "outputs": [
    {
     "name": "stdout",
     "output_type": "stream",
     "text": [
      "Names:\n",
      "['Water' 'Carbon Dioxide' 'Methane' 'Ethanol' 'Oxygen' 'Nitrogen'\n",
      " 'Hydrogen Peroxide' 'Ammonia' 'Sulfuric Acid' 'Acetic Acid' 'Methanol'\n",
      " 'Benzene' 'Ethylene' 'Propane' 'Butane' 'Pentane' 'Hexane' 'Heptane'\n",
      " 'Octane' 'Nonane' 'Decane' 'Caffeine' 'Ethane']\n",
      "Molecular Weights (g/mol):\n",
      "[ 18.015  44.01   16.04   46.07   32.     28.01   34.01   17.03   98.09\n",
      "  60.05   32.04   78.11   28.05   44.1    58.12   72.15   86.18  100.2\n",
      " 114.22  128.25  142.28  194.19   30.07 ]\n"
     ]
    }
   ],
   "source": [
    "# Instead, we can load the names as strings and the molecular weights as floats using\n",
    "# the `usecols` argument to specify which columns to load.\n",
    "names = np.loadtxt(file_path, delimiter=',', skiprows=1, usecols=[0], dtype=str)\n",
    "molecular_weights = np.loadtxt(file_path, delimiter=',', skiprows=1, usecols=[1], dtype=np.float64)\n",
    "\n",
    "print(\"Names:\")\n",
    "print(names)\n",
    "print(\"Molecular Weights (g/mol):\")\n",
    "print(molecular_weights)"
   ]
  },
  {
   "cell_type": "markdown",
   "metadata": {},
   "source": [
    "Let's do some basic statistical analysis on the molecular weight data, by finding the\n",
    "range of values, and the mean and standard deviation.\n",
    "\n",
    "For the mean and standard deviation, perform a Google search to identify the appropriate\n",
    "numpy functions to use here."
   ]
  },
  {
   "cell_type": "code",
   "execution_count": 30,
   "metadata": {},
   "outputs": [
    {
     "name": "stdout",
     "output_type": "stream",
     "text": [
      "Max: 194.19, Min: 16.04, Mean: 65.27326086956522, Std: 45.39299739158912\n"
     ]
    }
   ],
   "source": [
    "# TODO: find the mean and standard deviation of the molecular weights\n",
    "\n",
    "max_value = np.max(molecular_weights)\n",
    "min_value = np.min(molecular_weights)\n",
    "mean_value = np.mean(molecular_weights) # your code here\n",
    "std_value = np.std(molecular_weights)  # your code here\n",
    "\n",
    "print(f\"Max: {max_value}, Min: {min_value}, Mean: {mean_value}, Std: {std_value}\")"
   ]
  },
  {
   "cell_type": "code",
   "execution_count": 31,
   "metadata": {},
   "outputs": [
    {
     "name": "stdout",
     "output_type": "stream",
     "text": [
      "The molecule with the highest molecular weight is: Caffeine with a weight of 194.19\n"
     ]
    }
   ],
   "source": [
    "# Which molecule has the highest molecular weight? We want to find the index in the\n",
    "# `names` array where the maximum value in `molecular_weights` is located.\n",
    "\n",
    "# We can use the `np.argmax` function to find the index of the maximum value in an\n",
    "# array.\n",
    "max_index = np.argmax(molecular_weights)\n",
    "\n",
    "print(f\"The molecule with the highest molecular weight is: {names[max_index]} with a weight of {molecular_weights[max_index]}\")"
   ]
  },
  {
   "cell_type": "markdown",
   "metadata": {},
   "source": [
    "## 2. Data handling with `pandas`\n",
    "\n",
    "**What it is**: Pandas is a library providing high-level data structures and tools designed to make data analysis fast and easy in Python. Its primary data structure is the DataFrame, which allows you to store and manipulate tabular data in rows of observations and columns of variables.\n",
    "\n",
    "**Why it's used**: Pandas is used for data cleaning, transformation, and analysis. It offers data structures with a lot of flexibility and functionality, as well as the means to efficiently handle missing data, merge datasets, and perform complex data aggregations.\n",
    "\n",
    "**Usefulness in Chemical Sciences**: For chemists, pandas is invaluable for manipulating\n",
    "and analyzing experimental datasets, such as spectroscopy data or chemical properties of\n",
    "compounds. It simplifies tasks such as filtering data, performing statistical analyses,\n",
    "and working with time-series data from instrumental measurements.\n",
    "\n",
    "\n",
    "### Basics\n",
    "\n",
    "Pandas has two main data structures: Series and DataFrame. A Series is essentially a\n",
    "column, while a DataFrame is a multi-dimensional table made up of a collection of\n",
    "Series.\n",
    "\n",
    "A Series in pandas is one of the core data structures in the Python pandas library. It\n",
    "represents a one-dimensional array-like object containing a sequence of values and an\n",
    "associated array of data labels, called its index. The Series can hold any data\n",
    "type—integers, strings, floating point numbers, Python objects, and so on. It’s similar\n",
    "to a column in a spreadsheet or a table in a database."
   ]
  },
  {
   "cell_type": "code",
   "execution_count": 32,
   "metadata": {},
   "outputs": [
    {
     "data": {
      "text/plain": [
       "0              Water\n",
       "1            Ethanol\n",
       "2            Glucose\n",
       "3    Sodium Chloride\n",
       "4            Methane\n",
       "dtype: object"
      ]
     },
     "execution_count": 32,
     "metadata": {},
     "output_type": "execute_result"
    }
   ],
   "source": [
    "compounds = pd.Series([\"Water\", \"Ethanol\", \"Glucose\", \"Sodium Chloride\", \"Methane\"])\n",
    "compounds"
   ]
  },
  {
   "cell_type": "markdown",
   "metadata": {},
   "source": [
    "A DataFrame is a two-dimensional, size-mutable, potentially heterogeneous tabular data\n",
    "structure with labeled axes (rows and columns). For a chemistry application, let’s\n",
    "consider a simple example where we have a dataset of several compounds with their\n",
    "molecular weights and melting points."
   ]
  },
  {
   "cell_type": "code",
   "execution_count": 33,
   "metadata": {},
   "outputs": [
    {
     "data": {
      "text/html": [
       "<div>\n",
       "<style scoped>\n",
       "    .dataframe tbody tr th:only-of-type {\n",
       "        vertical-align: middle;\n",
       "    }\n",
       "\n",
       "    .dataframe tbody tr th {\n",
       "        vertical-align: top;\n",
       "    }\n",
       "\n",
       "    .dataframe thead th {\n",
       "        text-align: right;\n",
       "    }\n",
       "</style>\n",
       "<table border=\"1\" class=\"dataframe\">\n",
       "  <thead>\n",
       "    <tr style=\"text-align: right;\">\n",
       "      <th></th>\n",
       "      <th>Compound</th>\n",
       "      <th>Molecular Weight</th>\n",
       "      <th>Melting Point (°C)</th>\n",
       "    </tr>\n",
       "  </thead>\n",
       "  <tbody>\n",
       "    <tr>\n",
       "      <th>0</th>\n",
       "      <td>Water</td>\n",
       "      <td>18.015</td>\n",
       "      <td>0.0</td>\n",
       "    </tr>\n",
       "    <tr>\n",
       "      <th>1</th>\n",
       "      <td>Ethanol</td>\n",
       "      <td>46.070</td>\n",
       "      <td>-114.1</td>\n",
       "    </tr>\n",
       "    <tr>\n",
       "      <th>2</th>\n",
       "      <td>Glucose</td>\n",
       "      <td>180.160</td>\n",
       "      <td>146.0</td>\n",
       "    </tr>\n",
       "    <tr>\n",
       "      <th>3</th>\n",
       "      <td>Sodium Chloride</td>\n",
       "      <td>58.440</td>\n",
       "      <td>801.0</td>\n",
       "    </tr>\n",
       "    <tr>\n",
       "      <th>4</th>\n",
       "      <td>Methane</td>\n",
       "      <td>16.040</td>\n",
       "      <td>-182.5</td>\n",
       "    </tr>\n",
       "  </tbody>\n",
       "</table>\n",
       "</div>"
      ],
      "text/plain": [
       "          Compound  Molecular Weight  Melting Point (°C)\n",
       "0            Water            18.015                 0.0\n",
       "1          Ethanol            46.070              -114.1\n",
       "2          Glucose           180.160               146.0\n",
       "3  Sodium Chloride            58.440               801.0\n",
       "4          Methane            16.040              -182.5"
      ]
     },
     "execution_count": 33,
     "metadata": {},
     "output_type": "execute_result"
    }
   ],
   "source": [
    "data = {\n",
    "    \"Compound\": [\"Water\", \"Ethanol\", \"Glucose\", \"Sodium Chloride\", \"Methane\"],\n",
    "    \"Molecular Weight\": [18.015, 46.07, 180.16, 58.44, 16.04],\n",
    "    \"Melting Point (°C)\": [0, -114.1, 146, 801, -182.5]\n",
    "}\n",
    "df = pd.DataFrame(data)\n",
    "df"
   ]
  },
  {
   "cell_type": "markdown",
   "metadata": {},
   "source": [
    "A `DataFrame` can also be created by reading in data from file"
   ]
  },
  {
   "cell_type": "code",
   "execution_count": 34,
   "metadata": {},
   "outputs": [
    {
     "data": {
      "text/html": [
       "<div>\n",
       "<style scoped>\n",
       "    .dataframe tbody tr th:only-of-type {\n",
       "        vertical-align: middle;\n",
       "    }\n",
       "\n",
       "    .dataframe tbody tr th {\n",
       "        vertical-align: top;\n",
       "    }\n",
       "\n",
       "    .dataframe thead th {\n",
       "        text-align: right;\n",
       "    }\n",
       "</style>\n",
       "<table border=\"1\" class=\"dataframe\">\n",
       "  <thead>\n",
       "    <tr style=\"text-align: right;\">\n",
       "      <th></th>\n",
       "      <th># Compound Name</th>\n",
       "      <th>Molecular Weight (g/mol)</th>\n",
       "      <th>Boiling Point (°C)</th>\n",
       "    </tr>\n",
       "  </thead>\n",
       "  <tbody>\n",
       "    <tr>\n",
       "      <th>0</th>\n",
       "      <td>Water</td>\n",
       "      <td>18.015</td>\n",
       "      <td>100.0</td>\n",
       "    </tr>\n",
       "    <tr>\n",
       "      <th>1</th>\n",
       "      <td>Carbon Dioxide</td>\n",
       "      <td>44.010</td>\n",
       "      <td>-78.5</td>\n",
       "    </tr>\n",
       "    <tr>\n",
       "      <th>2</th>\n",
       "      <td>Methane</td>\n",
       "      <td>16.040</td>\n",
       "      <td>-161.5</td>\n",
       "    </tr>\n",
       "    <tr>\n",
       "      <th>3</th>\n",
       "      <td>Ethanol</td>\n",
       "      <td>46.070</td>\n",
       "      <td>78.3</td>\n",
       "    </tr>\n",
       "    <tr>\n",
       "      <th>4</th>\n",
       "      <td>Oxygen</td>\n",
       "      <td>32.000</td>\n",
       "      <td>-183.0</td>\n",
       "    </tr>\n",
       "    <tr>\n",
       "      <th>5</th>\n",
       "      <td>Nitrogen</td>\n",
       "      <td>28.010</td>\n",
       "      <td>-196.0</td>\n",
       "    </tr>\n",
       "    <tr>\n",
       "      <th>6</th>\n",
       "      <td>Hydrogen Peroxide</td>\n",
       "      <td>34.010</td>\n",
       "      <td>150.2</td>\n",
       "    </tr>\n",
       "    <tr>\n",
       "      <th>7</th>\n",
       "      <td>Ammonia</td>\n",
       "      <td>17.030</td>\n",
       "      <td>-33.3</td>\n",
       "    </tr>\n",
       "    <tr>\n",
       "      <th>8</th>\n",
       "      <td>Sulfuric Acid</td>\n",
       "      <td>98.090</td>\n",
       "      <td>337.0</td>\n",
       "    </tr>\n",
       "    <tr>\n",
       "      <th>9</th>\n",
       "      <td>Acetic Acid</td>\n",
       "      <td>60.050</td>\n",
       "      <td>118.1</td>\n",
       "    </tr>\n",
       "    <tr>\n",
       "      <th>10</th>\n",
       "      <td>Methanol</td>\n",
       "      <td>32.040</td>\n",
       "      <td>64.7</td>\n",
       "    </tr>\n",
       "    <tr>\n",
       "      <th>11</th>\n",
       "      <td>Benzene</td>\n",
       "      <td>78.110</td>\n",
       "      <td>80.1</td>\n",
       "    </tr>\n",
       "    <tr>\n",
       "      <th>12</th>\n",
       "      <td>Ethylene</td>\n",
       "      <td>28.050</td>\n",
       "      <td>-103.7</td>\n",
       "    </tr>\n",
       "    <tr>\n",
       "      <th>13</th>\n",
       "      <td>Propane</td>\n",
       "      <td>44.100</td>\n",
       "      <td>-42.1</td>\n",
       "    </tr>\n",
       "    <tr>\n",
       "      <th>14</th>\n",
       "      <td>Butane</td>\n",
       "      <td>58.120</td>\n",
       "      <td>-0.5</td>\n",
       "    </tr>\n",
       "    <tr>\n",
       "      <th>15</th>\n",
       "      <td>Pentane</td>\n",
       "      <td>72.150</td>\n",
       "      <td>36.1</td>\n",
       "    </tr>\n",
       "    <tr>\n",
       "      <th>16</th>\n",
       "      <td>Hexane</td>\n",
       "      <td>86.180</td>\n",
       "      <td>68.7</td>\n",
       "    </tr>\n",
       "    <tr>\n",
       "      <th>17</th>\n",
       "      <td>Heptane</td>\n",
       "      <td>100.200</td>\n",
       "      <td>98.4</td>\n",
       "    </tr>\n",
       "    <tr>\n",
       "      <th>18</th>\n",
       "      <td>Octane</td>\n",
       "      <td>114.220</td>\n",
       "      <td>125.7</td>\n",
       "    </tr>\n",
       "    <tr>\n",
       "      <th>19</th>\n",
       "      <td>Nonane</td>\n",
       "      <td>128.250</td>\n",
       "      <td>150.8</td>\n",
       "    </tr>\n",
       "    <tr>\n",
       "      <th>20</th>\n",
       "      <td>Decane</td>\n",
       "      <td>142.280</td>\n",
       "      <td>174.1</td>\n",
       "    </tr>\n",
       "    <tr>\n",
       "      <th>21</th>\n",
       "      <td>Caffeine</td>\n",
       "      <td>194.190</td>\n",
       "      <td>178.0</td>\n",
       "    </tr>\n",
       "    <tr>\n",
       "      <th>22</th>\n",
       "      <td>Ethane</td>\n",
       "      <td>30.070</td>\n",
       "      <td>-88.6</td>\n",
       "    </tr>\n",
       "  </tbody>\n",
       "</table>\n",
       "</div>"
      ],
      "text/plain": [
       "      # Compound Name  Molecular Weight (g/mol)  Boiling Point (°C)\n",
       "0               Water                    18.015               100.0\n",
       "1      Carbon Dioxide                    44.010               -78.5\n",
       "2             Methane                    16.040              -161.5\n",
       "3             Ethanol                    46.070                78.3\n",
       "4              Oxygen                    32.000              -183.0\n",
       "5            Nitrogen                    28.010              -196.0\n",
       "6   Hydrogen Peroxide                    34.010               150.2\n",
       "7             Ammonia                    17.030               -33.3\n",
       "8       Sulfuric Acid                    98.090               337.0\n",
       "9         Acetic Acid                    60.050               118.1\n",
       "10           Methanol                    32.040                64.7\n",
       "11            Benzene                    78.110                80.1\n",
       "12           Ethylene                    28.050              -103.7\n",
       "13            Propane                    44.100               -42.1\n",
       "14             Butane                    58.120                -0.5\n",
       "15            Pentane                    72.150                36.1\n",
       "16             Hexane                    86.180                68.7\n",
       "17            Heptane                   100.200                98.4\n",
       "18             Octane                   114.220               125.7\n",
       "19             Nonane                   128.250               150.8\n",
       "20             Decane                   142.280               174.1\n",
       "21           Caffeine                   194.190               178.0\n",
       "22             Ethane                    30.070               -88.6"
      ]
     },
     "execution_count": 34,
     "metadata": {},
     "output_type": "execute_result"
    }
   ],
   "source": [
    "# Read from the molecular_weights.txt file from before\n",
    "df = pd.read_csv(file_path, )\n",
    "df"
   ]
  },
  {
   "cell_type": "code",
   "execution_count": 35,
   "metadata": {},
   "outputs": [
    {
     "data": {
      "text/plain": [
       "Index(['# Compound Name', 'Molecular Weight (g/mol)', 'Boiling Point (°C)'], dtype='object')"
      ]
     },
     "execution_count": 35,
     "metadata": {},
     "output_type": "execute_result"
    }
   ],
   "source": [
    "df.columns"
   ]
  },
  {
   "cell_type": "code",
   "execution_count": 36,
   "metadata": {},
   "outputs": [
    {
     "data": {
      "text/plain": [
       "0      18.015\n",
       "1      44.010\n",
       "2      16.040\n",
       "3      46.070\n",
       "4      32.000\n",
       "5      28.010\n",
       "6      34.010\n",
       "7      17.030\n",
       "8      98.090\n",
       "9      60.050\n",
       "10     32.040\n",
       "11     78.110\n",
       "12     28.050\n",
       "13     44.100\n",
       "14     58.120\n",
       "15     72.150\n",
       "16     86.180\n",
       "17    100.200\n",
       "18    114.220\n",
       "19    128.250\n",
       "20    142.280\n",
       "21    194.190\n",
       "22     30.070\n",
       "Name: Molecular Weight (g/mol), dtype: float64"
      ]
     },
     "execution_count": 36,
     "metadata": {},
     "output_type": "execute_result"
    }
   ],
   "source": [
    "# If we want to access a single column, we can use the column name as an attribute\n",
    "df[\"Molecular Weight (g/mol)\"]"
   ]
  },
  {
   "cell_type": "markdown",
   "metadata": {},
   "source": [
    "However, inclusion of the units in the column name may make it pretty inconvenient to\n",
    "reference over and over again.\n",
    "\n",
    "We can instead load the data with custom column names:"
   ]
  },
  {
   "cell_type": "code",
   "execution_count": 37,
   "metadata": {},
   "outputs": [
    {
     "data": {
      "text/html": [
       "<div>\n",
       "<style scoped>\n",
       "    .dataframe tbody tr th:only-of-type {\n",
       "        vertical-align: middle;\n",
       "    }\n",
       "\n",
       "    .dataframe tbody tr th {\n",
       "        vertical-align: top;\n",
       "    }\n",
       "\n",
       "    .dataframe thead th {\n",
       "        text-align: right;\n",
       "    }\n",
       "</style>\n",
       "<table border=\"1\" class=\"dataframe\">\n",
       "  <thead>\n",
       "    <tr style=\"text-align: right;\">\n",
       "      <th></th>\n",
       "      <th>molecule</th>\n",
       "      <th>weight</th>\n",
       "      <th>boiling_point_celsius</th>\n",
       "    </tr>\n",
       "  </thead>\n",
       "  <tbody>\n",
       "    <tr>\n",
       "      <th>0</th>\n",
       "      <td>Water</td>\n",
       "      <td>18.015</td>\n",
       "      <td>100.0</td>\n",
       "    </tr>\n",
       "    <tr>\n",
       "      <th>1</th>\n",
       "      <td>Carbon Dioxide</td>\n",
       "      <td>44.010</td>\n",
       "      <td>-78.5</td>\n",
       "    </tr>\n",
       "    <tr>\n",
       "      <th>2</th>\n",
       "      <td>Methane</td>\n",
       "      <td>16.040</td>\n",
       "      <td>-161.5</td>\n",
       "    </tr>\n",
       "    <tr>\n",
       "      <th>3</th>\n",
       "      <td>Ethanol</td>\n",
       "      <td>46.070</td>\n",
       "      <td>78.3</td>\n",
       "    </tr>\n",
       "    <tr>\n",
       "      <th>4</th>\n",
       "      <td>Oxygen</td>\n",
       "      <td>32.000</td>\n",
       "      <td>-183.0</td>\n",
       "    </tr>\n",
       "    <tr>\n",
       "      <th>5</th>\n",
       "      <td>Nitrogen</td>\n",
       "      <td>28.010</td>\n",
       "      <td>-196.0</td>\n",
       "    </tr>\n",
       "    <tr>\n",
       "      <th>6</th>\n",
       "      <td>Hydrogen Peroxide</td>\n",
       "      <td>34.010</td>\n",
       "      <td>150.2</td>\n",
       "    </tr>\n",
       "    <tr>\n",
       "      <th>7</th>\n",
       "      <td>Ammonia</td>\n",
       "      <td>17.030</td>\n",
       "      <td>-33.3</td>\n",
       "    </tr>\n",
       "    <tr>\n",
       "      <th>8</th>\n",
       "      <td>Sulfuric Acid</td>\n",
       "      <td>98.090</td>\n",
       "      <td>337.0</td>\n",
       "    </tr>\n",
       "    <tr>\n",
       "      <th>9</th>\n",
       "      <td>Acetic Acid</td>\n",
       "      <td>60.050</td>\n",
       "      <td>118.1</td>\n",
       "    </tr>\n",
       "    <tr>\n",
       "      <th>10</th>\n",
       "      <td>Methanol</td>\n",
       "      <td>32.040</td>\n",
       "      <td>64.7</td>\n",
       "    </tr>\n",
       "    <tr>\n",
       "      <th>11</th>\n",
       "      <td>Benzene</td>\n",
       "      <td>78.110</td>\n",
       "      <td>80.1</td>\n",
       "    </tr>\n",
       "    <tr>\n",
       "      <th>12</th>\n",
       "      <td>Ethylene</td>\n",
       "      <td>28.050</td>\n",
       "      <td>-103.7</td>\n",
       "    </tr>\n",
       "    <tr>\n",
       "      <th>13</th>\n",
       "      <td>Propane</td>\n",
       "      <td>44.100</td>\n",
       "      <td>-42.1</td>\n",
       "    </tr>\n",
       "    <tr>\n",
       "      <th>14</th>\n",
       "      <td>Butane</td>\n",
       "      <td>58.120</td>\n",
       "      <td>-0.5</td>\n",
       "    </tr>\n",
       "    <tr>\n",
       "      <th>15</th>\n",
       "      <td>Pentane</td>\n",
       "      <td>72.150</td>\n",
       "      <td>36.1</td>\n",
       "    </tr>\n",
       "    <tr>\n",
       "      <th>16</th>\n",
       "      <td>Hexane</td>\n",
       "      <td>86.180</td>\n",
       "      <td>68.7</td>\n",
       "    </tr>\n",
       "    <tr>\n",
       "      <th>17</th>\n",
       "      <td>Heptane</td>\n",
       "      <td>100.200</td>\n",
       "      <td>98.4</td>\n",
       "    </tr>\n",
       "    <tr>\n",
       "      <th>18</th>\n",
       "      <td>Octane</td>\n",
       "      <td>114.220</td>\n",
       "      <td>125.7</td>\n",
       "    </tr>\n",
       "    <tr>\n",
       "      <th>19</th>\n",
       "      <td>Nonane</td>\n",
       "      <td>128.250</td>\n",
       "      <td>150.8</td>\n",
       "    </tr>\n",
       "    <tr>\n",
       "      <th>20</th>\n",
       "      <td>Decane</td>\n",
       "      <td>142.280</td>\n",
       "      <td>174.1</td>\n",
       "    </tr>\n",
       "    <tr>\n",
       "      <th>21</th>\n",
       "      <td>Caffeine</td>\n",
       "      <td>194.190</td>\n",
       "      <td>178.0</td>\n",
       "    </tr>\n",
       "    <tr>\n",
       "      <th>22</th>\n",
       "      <td>Ethane</td>\n",
       "      <td>30.070</td>\n",
       "      <td>-88.6</td>\n",
       "    </tr>\n",
       "  </tbody>\n",
       "</table>\n",
       "</div>"
      ],
      "text/plain": [
       "             molecule   weight  boiling_point_celsius\n",
       "0               Water   18.015                  100.0\n",
       "1      Carbon Dioxide   44.010                  -78.5\n",
       "2             Methane   16.040                 -161.5\n",
       "3             Ethanol   46.070                   78.3\n",
       "4              Oxygen   32.000                 -183.0\n",
       "5            Nitrogen   28.010                 -196.0\n",
       "6   Hydrogen Peroxide   34.010                  150.2\n",
       "7             Ammonia   17.030                  -33.3\n",
       "8       Sulfuric Acid   98.090                  337.0\n",
       "9         Acetic Acid   60.050                  118.1\n",
       "10           Methanol   32.040                   64.7\n",
       "11            Benzene   78.110                   80.1\n",
       "12           Ethylene   28.050                 -103.7\n",
       "13            Propane   44.100                  -42.1\n",
       "14             Butane   58.120                   -0.5\n",
       "15            Pentane   72.150                   36.1\n",
       "16             Hexane   86.180                   68.7\n",
       "17            Heptane  100.200                   98.4\n",
       "18             Octane  114.220                  125.7\n",
       "19             Nonane  128.250                  150.8\n",
       "20             Decane  142.280                  174.1\n",
       "21           Caffeine  194.190                  178.0\n",
       "22             Ethane   30.070                  -88.6"
      ]
     },
     "execution_count": 37,
     "metadata": {},
     "output_type": "execute_result"
    }
   ],
   "source": [
    "# Load the data again, but this time specify the column names\n",
    "df = pd.read_csv(file_path, names=[\"molecule\", \"weight\", \"boiling_point_celsius\"], skiprows=1)\n",
    "df"
   ]
  },
  {
   "cell_type": "code",
   "execution_count": 38,
   "metadata": {},
   "outputs": [
    {
     "data": {
      "text/plain": [
       "0      18.015\n",
       "1      44.010\n",
       "2      16.040\n",
       "3      46.070\n",
       "4      32.000\n",
       "5      28.010\n",
       "6      34.010\n",
       "7      17.030\n",
       "8      98.090\n",
       "9      60.050\n",
       "10     32.040\n",
       "11     78.110\n",
       "12     28.050\n",
       "13     44.100\n",
       "14     58.120\n",
       "15     72.150\n",
       "16     86.180\n",
       "17    100.200\n",
       "18    114.220\n",
       "19    128.250\n",
       "20    142.280\n",
       "21    194.190\n",
       "22     30.070\n",
       "Name: weight, dtype: float64"
      ]
     },
     "execution_count": 38,
     "metadata": {},
     "output_type": "execute_result"
    }
   ],
   "source": [
    "df[\"weight\"]"
   ]
  },
  {
   "cell_type": "markdown",
   "metadata": {},
   "source": [
    "### Data inspection\n",
    "\n",
    "Pandas provides numerous functions to quickly inspect your data:\n",
    "\n",
    "* `df.head()` displays the first few rows of the DataFrame.\n",
    "* `df.describe()` gives a statistical summary of the numerical columns.\n",
    "* `df.dtypes` shows the data type of each column."
   ]
  },
  {
   "cell_type": "code",
   "execution_count": 42,
   "metadata": {},
   "outputs": [
    {
     "data": {
      "text/plain": [
       "molecule                  object\n",
       "weight                   float64\n",
       "boiling_point_celsius    float64\n",
       "dtype: object"
      ]
     },
     "execution_count": 42,
     "metadata": {},
     "output_type": "execute_result"
    }
   ],
   "source": [
    "df.dtypes"
   ]
  },
  {
   "cell_type": "markdown",
   "metadata": {},
   "source": [
    "### Indexing\n",
    "\n",
    "In pandas, .loc and .iloc are indexing operators used for selecting data from a\n",
    "DataFrame. While both are used for data selection, they differ in how they perform the\n",
    "selection:\n",
    "\n",
    "* `.loc` is label-based, meaning you use the labels of the rows and columns to select data.\n",
    "* `.iloc` is integer position-based, so you use integer indices to select data."
   ]
  },
  {
   "cell_type": "code",
   "execution_count": 43,
   "metadata": {},
   "outputs": [
    {
     "data": {
      "text/plain": [
       "molecule                 Carbon Dioxide\n",
       "weight                            44.01\n",
       "boiling_point_celsius             -78.5\n",
       "Name: 1, dtype: object"
      ]
     },
     "execution_count": 43,
     "metadata": {},
     "output_type": "execute_result"
    }
   ],
   "source": [
    "# Select the row for Carbon Dioxide (index 1)\n",
    "df.loc[1]"
   ]
  },
  {
   "cell_type": "code",
   "execution_count": 44,
   "metadata": {},
   "outputs": [
    {
     "data": {
      "text/html": [
       "<div>\n",
       "<style scoped>\n",
       "    .dataframe tbody tr th:only-of-type {\n",
       "        vertical-align: middle;\n",
       "    }\n",
       "\n",
       "    .dataframe tbody tr th {\n",
       "        vertical-align: top;\n",
       "    }\n",
       "\n",
       "    .dataframe thead th {\n",
       "        text-align: right;\n",
       "    }\n",
       "</style>\n",
       "<table border=\"1\" class=\"dataframe\">\n",
       "  <thead>\n",
       "    <tr style=\"text-align: right;\">\n",
       "      <th></th>\n",
       "      <th>molecule</th>\n",
       "      <th>weight</th>\n",
       "      <th>boiling_point_celsius</th>\n",
       "    </tr>\n",
       "  </thead>\n",
       "  <tbody>\n",
       "    <tr>\n",
       "      <th>0</th>\n",
       "      <td>Water</td>\n",
       "      <td>18.015</td>\n",
       "      <td>100.0</td>\n",
       "    </tr>\n",
       "    <tr>\n",
       "      <th>10</th>\n",
       "      <td>Methanol</td>\n",
       "      <td>32.040</td>\n",
       "      <td>64.7</td>\n",
       "    </tr>\n",
       "  </tbody>\n",
       "</table>\n",
       "</div>"
      ],
      "text/plain": [
       "    molecule  weight  boiling_point_celsius\n",
       "0      Water  18.015                  100.0\n",
       "10  Methanol  32.040                   64.7"
      ]
     },
     "execution_count": 44,
     "metadata": {},
     "output_type": "execute_result"
    }
   ],
   "source": [
    "# Select rows for Water and Methanol\n",
    "df.loc[[0, 10]]"
   ]
  },
  {
   "cell_type": "code",
   "execution_count": 45,
   "metadata": {},
   "outputs": [
    {
     "data": {
      "text/html": [
       "<div>\n",
       "<style scoped>\n",
       "    .dataframe tbody tr th:only-of-type {\n",
       "        vertical-align: middle;\n",
       "    }\n",
       "\n",
       "    .dataframe tbody tr th {\n",
       "        vertical-align: top;\n",
       "    }\n",
       "\n",
       "    .dataframe thead th {\n",
       "        text-align: right;\n",
       "    }\n",
       "</style>\n",
       "<table border=\"1\" class=\"dataframe\">\n",
       "  <thead>\n",
       "    <tr style=\"text-align: right;\">\n",
       "      <th></th>\n",
       "      <th>molecule</th>\n",
       "      <th>weight</th>\n",
       "      <th>boiling_point_celsius</th>\n",
       "    </tr>\n",
       "  </thead>\n",
       "  <tbody>\n",
       "    <tr>\n",
       "      <th>0</th>\n",
       "      <td>Water</td>\n",
       "      <td>18.015</td>\n",
       "      <td>100.0</td>\n",
       "    </tr>\n",
       "    <tr>\n",
       "      <th>2</th>\n",
       "      <td>Methane</td>\n",
       "      <td>16.040</td>\n",
       "      <td>-161.5</td>\n",
       "    </tr>\n",
       "  </tbody>\n",
       "</table>\n",
       "</div>"
      ],
      "text/plain": [
       "  molecule  weight  boiling_point_celsius\n",
       "0    Water  18.015                  100.0\n",
       "2  Methane  16.040                 -161.5"
      ]
     },
     "execution_count": 45,
     "metadata": {},
     "output_type": "execute_result"
    }
   ],
   "source": [
    "# Select rows for Water and Methane\n",
    "df.iloc[[0, 2]]"
   ]
  },
  {
   "cell_type": "code",
   "execution_count": 46,
   "metadata": {},
   "outputs": [
    {
     "data": {
      "text/html": [
       "<div>\n",
       "<style scoped>\n",
       "    .dataframe tbody tr th:only-of-type {\n",
       "        vertical-align: middle;\n",
       "    }\n",
       "\n",
       "    .dataframe tbody tr th {\n",
       "        vertical-align: top;\n",
       "    }\n",
       "\n",
       "    .dataframe thead th {\n",
       "        text-align: right;\n",
       "    }\n",
       "</style>\n",
       "<table border=\"1\" class=\"dataframe\">\n",
       "  <thead>\n",
       "    <tr style=\"text-align: right;\">\n",
       "      <th></th>\n",
       "      <th>weight</th>\n",
       "      <th>boiling_point_celsius</th>\n",
       "    </tr>\n",
       "  </thead>\n",
       "  <tbody>\n",
       "    <tr>\n",
       "      <th>1</th>\n",
       "      <td>44.01</td>\n",
       "      <td>-78.5</td>\n",
       "    </tr>\n",
       "    <tr>\n",
       "      <th>2</th>\n",
       "      <td>16.04</td>\n",
       "      <td>-161.5</td>\n",
       "    </tr>\n",
       "  </tbody>\n",
       "</table>\n",
       "</div>"
      ],
      "text/plain": [
       "   weight  boiling_point_celsius\n",
       "1   44.01                  -78.5\n",
       "2   16.04                 -161.5"
      ]
     },
     "execution_count": 46,
     "metadata": {},
     "output_type": "execute_result"
    }
   ],
   "source": [
    "# Select the Molecular Weight and Melting Point for Carbon Dioxide and Methane\n",
    "df.iloc[[1, 2], [1, 2]]"
   ]
  },
  {
   "cell_type": "code",
   "execution_count": 47,
   "metadata": {},
   "outputs": [
    {
     "data": {
      "text/html": [
       "<div>\n",
       "<style scoped>\n",
       "    .dataframe tbody tr th:only-of-type {\n",
       "        vertical-align: middle;\n",
       "    }\n",
       "\n",
       "    .dataframe tbody tr th {\n",
       "        vertical-align: top;\n",
       "    }\n",
       "\n",
       "    .dataframe thead th {\n",
       "        text-align: right;\n",
       "    }\n",
       "</style>\n",
       "<table border=\"1\" class=\"dataframe\">\n",
       "  <thead>\n",
       "    <tr style=\"text-align: right;\">\n",
       "      <th></th>\n",
       "      <th>molecule</th>\n",
       "      <th>weight</th>\n",
       "      <th>boiling_point_celsius</th>\n",
       "    </tr>\n",
       "  </thead>\n",
       "  <tbody>\n",
       "    <tr>\n",
       "      <th>0</th>\n",
       "      <td>Water</td>\n",
       "      <td>18.015</td>\n",
       "      <td>100.0</td>\n",
       "    </tr>\n",
       "  </tbody>\n",
       "</table>\n",
       "</div>"
      ],
      "text/plain": [
       "  molecule  weight  boiling_point_celsius\n",
       "0    Water  18.015                  100.0"
      ]
     },
     "execution_count": 47,
     "metadata": {},
     "output_type": "execute_result"
    }
   ],
   "source": [
    "# Select the row for water\n",
    "df[df[\"molecule\"] == \"Water\"]"
   ]
  },
  {
   "cell_type": "code",
   "execution_count": 48,
   "metadata": {},
   "outputs": [
    {
     "data": {
      "text/html": [
       "<div>\n",
       "<style scoped>\n",
       "    .dataframe tbody tr th:only-of-type {\n",
       "        vertical-align: middle;\n",
       "    }\n",
       "\n",
       "    .dataframe tbody tr th {\n",
       "        vertical-align: top;\n",
       "    }\n",
       "\n",
       "    .dataframe thead th {\n",
       "        text-align: right;\n",
       "    }\n",
       "</style>\n",
       "<table border=\"1\" class=\"dataframe\">\n",
       "  <thead>\n",
       "    <tr style=\"text-align: right;\">\n",
       "      <th></th>\n",
       "      <th>molecule</th>\n",
       "      <th>weight</th>\n",
       "      <th>boiling_point_celsius</th>\n",
       "    </tr>\n",
       "  </thead>\n",
       "  <tbody>\n",
       "    <tr>\n",
       "      <th>2</th>\n",
       "      <td>Methane</td>\n",
       "      <td>16.04</td>\n",
       "      <td>-161.5</td>\n",
       "    </tr>\n",
       "    <tr>\n",
       "      <th>13</th>\n",
       "      <td>Propane</td>\n",
       "      <td>44.10</td>\n",
       "      <td>-42.1</td>\n",
       "    </tr>\n",
       "    <tr>\n",
       "      <th>14</th>\n",
       "      <td>Butane</td>\n",
       "      <td>58.12</td>\n",
       "      <td>-0.5</td>\n",
       "    </tr>\n",
       "    <tr>\n",
       "      <th>15</th>\n",
       "      <td>Pentane</td>\n",
       "      <td>72.15</td>\n",
       "      <td>36.1</td>\n",
       "    </tr>\n",
       "    <tr>\n",
       "      <th>16</th>\n",
       "      <td>Hexane</td>\n",
       "      <td>86.18</td>\n",
       "      <td>68.7</td>\n",
       "    </tr>\n",
       "    <tr>\n",
       "      <th>17</th>\n",
       "      <td>Heptane</td>\n",
       "      <td>100.20</td>\n",
       "      <td>98.4</td>\n",
       "    </tr>\n",
       "    <tr>\n",
       "      <th>18</th>\n",
       "      <td>Octane</td>\n",
       "      <td>114.22</td>\n",
       "      <td>125.7</td>\n",
       "    </tr>\n",
       "    <tr>\n",
       "      <th>19</th>\n",
       "      <td>Nonane</td>\n",
       "      <td>128.25</td>\n",
       "      <td>150.8</td>\n",
       "    </tr>\n",
       "    <tr>\n",
       "      <th>20</th>\n",
       "      <td>Decane</td>\n",
       "      <td>142.28</td>\n",
       "      <td>174.1</td>\n",
       "    </tr>\n",
       "    <tr>\n",
       "      <th>22</th>\n",
       "      <td>Ethane</td>\n",
       "      <td>30.07</td>\n",
       "      <td>-88.6</td>\n",
       "    </tr>\n",
       "  </tbody>\n",
       "</table>\n",
       "</div>"
      ],
      "text/plain": [
       "   molecule  weight  boiling_point_celsius\n",
       "2   Methane   16.04                 -161.5\n",
       "13  Propane   44.10                  -42.1\n",
       "14   Butane   58.12                   -0.5\n",
       "15  Pentane   72.15                   36.1\n",
       "16   Hexane   86.18                   68.7\n",
       "17  Heptane  100.20                   98.4\n",
       "18   Octane  114.22                  125.7\n",
       "19   Nonane  128.25                  150.8\n",
       "20   Decane  142.28                  174.1\n",
       "22   Ethane   30.07                  -88.6"
      ]
     },
     "execution_count": 48,
     "metadata": {},
     "output_type": "execute_result"
    }
   ],
   "source": [
    "# Select all the hydrocarbons\n",
    "hydrocarbons = [\n",
    "    \"Methane\",\n",
    "    \"Ethane\",\n",
    "    \"Propane\",\n",
    "    \"Butane\",\n",
    "    \"Pentane\",\n",
    "    \"Hexane\",\n",
    "    \"Heptane\",\n",
    "    \"Octane\",\n",
    "    \"Nonane\",\n",
    "    \"Decane\",\n",
    "]\n",
    "\n",
    "df[df[\"molecule\"].isin(hydrocarbons)]"
   ]
  },
  {
   "cell_type": "markdown",
   "metadata": {},
   "source": [
    "### Operations"
   ]
  },
  {
   "cell_type": "code",
   "execution_count": 49,
   "metadata": {},
   "outputs": [
    {
     "name": "stdout",
     "output_type": "stream",
     "text": [
      "Max molecular weight: 194.19\n",
      "Min molecular weight: 16.04\n",
      "Mean molecular weight (pandas): 65.27326086956522\n",
      "Mean molecular weight (numpy): 65.27326086956522\n",
      "Standard deviation of molecular weight (pandas): 46.413192129567285\n",
      "Standard deviation of molecular weight (numpy): 45.39299739158912\n"
     ]
    }
   ],
   "source": [
    "molecular_weights = df[\"weight\"]\n",
    "\n",
    "print(\"Max molecular weight:\", molecular_weights.max())\n",
    "print(\"Min molecular weight:\", molecular_weights.min())\n",
    "\n",
    "print(\"Mean molecular weight (pandas):\", molecular_weights.mean())\n",
    "print(\"Mean molecular weight (numpy):\", np.mean(molecular_weights))\n",
    "\n",
    "print(\"Standard deviation of molecular weight (pandas):\", molecular_weights.std())\n",
    "print(\"Standard deviation of molecular weight (numpy):\", np.std(molecular_weights))"
   ]
  },
  {
   "cell_type": "markdown",
   "metadata": {},
   "source": [
    "***Bonus:*** why are the standard deviations different between numpy and pandas? Have a\n",
    "read of the respective documentation to see how the expressions are normalized:\n",
    "\n",
    "* https://pandas.pydata.org/pandas-docs/stable/reference/api/pandas.DataFrame.std.html\n",
    "* https://numpy.org/doc/stable/reference/generated/numpy.std.html"
   ]
  },
  {
   "cell_type": "code",
   "execution_count": 50,
   "metadata": {},
   "outputs": [
    {
     "data": {
      "text/html": [
       "<div>\n",
       "<style scoped>\n",
       "    .dataframe tbody tr th:only-of-type {\n",
       "        vertical-align: middle;\n",
       "    }\n",
       "\n",
       "    .dataframe tbody tr th {\n",
       "        vertical-align: top;\n",
       "    }\n",
       "\n",
       "    .dataframe thead th {\n",
       "        text-align: right;\n",
       "    }\n",
       "</style>\n",
       "<table border=\"1\" class=\"dataframe\">\n",
       "  <thead>\n",
       "    <tr style=\"text-align: right;\">\n",
       "      <th></th>\n",
       "      <th>molecule</th>\n",
       "      <th>weight</th>\n",
       "      <th>boiling_point_celsius</th>\n",
       "      <th>boiling_point_kelvin</th>\n",
       "    </tr>\n",
       "  </thead>\n",
       "  <tbody>\n",
       "    <tr>\n",
       "      <th>0</th>\n",
       "      <td>Water</td>\n",
       "      <td>18.015</td>\n",
       "      <td>100.0</td>\n",
       "      <td>374.15</td>\n",
       "    </tr>\n",
       "    <tr>\n",
       "      <th>1</th>\n",
       "      <td>Carbon Dioxide</td>\n",
       "      <td>44.010</td>\n",
       "      <td>-78.5</td>\n",
       "      <td>195.65</td>\n",
       "    </tr>\n",
       "    <tr>\n",
       "      <th>2</th>\n",
       "      <td>Methane</td>\n",
       "      <td>16.040</td>\n",
       "      <td>-161.5</td>\n",
       "      <td>112.65</td>\n",
       "    </tr>\n",
       "    <tr>\n",
       "      <th>3</th>\n",
       "      <td>Ethanol</td>\n",
       "      <td>46.070</td>\n",
       "      <td>78.3</td>\n",
       "      <td>352.45</td>\n",
       "    </tr>\n",
       "    <tr>\n",
       "      <th>4</th>\n",
       "      <td>Oxygen</td>\n",
       "      <td>32.000</td>\n",
       "      <td>-183.0</td>\n",
       "      <td>91.15</td>\n",
       "    </tr>\n",
       "    <tr>\n",
       "      <th>5</th>\n",
       "      <td>Nitrogen</td>\n",
       "      <td>28.010</td>\n",
       "      <td>-196.0</td>\n",
       "      <td>78.15</td>\n",
       "    </tr>\n",
       "    <tr>\n",
       "      <th>6</th>\n",
       "      <td>Hydrogen Peroxide</td>\n",
       "      <td>34.010</td>\n",
       "      <td>150.2</td>\n",
       "      <td>424.35</td>\n",
       "    </tr>\n",
       "    <tr>\n",
       "      <th>7</th>\n",
       "      <td>Ammonia</td>\n",
       "      <td>17.030</td>\n",
       "      <td>-33.3</td>\n",
       "      <td>240.85</td>\n",
       "    </tr>\n",
       "    <tr>\n",
       "      <th>8</th>\n",
       "      <td>Sulfuric Acid</td>\n",
       "      <td>98.090</td>\n",
       "      <td>337.0</td>\n",
       "      <td>611.15</td>\n",
       "    </tr>\n",
       "    <tr>\n",
       "      <th>9</th>\n",
       "      <td>Acetic Acid</td>\n",
       "      <td>60.050</td>\n",
       "      <td>118.1</td>\n",
       "      <td>392.25</td>\n",
       "    </tr>\n",
       "    <tr>\n",
       "      <th>10</th>\n",
       "      <td>Methanol</td>\n",
       "      <td>32.040</td>\n",
       "      <td>64.7</td>\n",
       "      <td>338.85</td>\n",
       "    </tr>\n",
       "    <tr>\n",
       "      <th>11</th>\n",
       "      <td>Benzene</td>\n",
       "      <td>78.110</td>\n",
       "      <td>80.1</td>\n",
       "      <td>354.25</td>\n",
       "    </tr>\n",
       "    <tr>\n",
       "      <th>12</th>\n",
       "      <td>Ethylene</td>\n",
       "      <td>28.050</td>\n",
       "      <td>-103.7</td>\n",
       "      <td>170.45</td>\n",
       "    </tr>\n",
       "    <tr>\n",
       "      <th>13</th>\n",
       "      <td>Propane</td>\n",
       "      <td>44.100</td>\n",
       "      <td>-42.1</td>\n",
       "      <td>232.05</td>\n",
       "    </tr>\n",
       "    <tr>\n",
       "      <th>14</th>\n",
       "      <td>Butane</td>\n",
       "      <td>58.120</td>\n",
       "      <td>-0.5</td>\n",
       "      <td>273.65</td>\n",
       "    </tr>\n",
       "    <tr>\n",
       "      <th>15</th>\n",
       "      <td>Pentane</td>\n",
       "      <td>72.150</td>\n",
       "      <td>36.1</td>\n",
       "      <td>310.25</td>\n",
       "    </tr>\n",
       "    <tr>\n",
       "      <th>16</th>\n",
       "      <td>Hexane</td>\n",
       "      <td>86.180</td>\n",
       "      <td>68.7</td>\n",
       "      <td>342.85</td>\n",
       "    </tr>\n",
       "    <tr>\n",
       "      <th>17</th>\n",
       "      <td>Heptane</td>\n",
       "      <td>100.200</td>\n",
       "      <td>98.4</td>\n",
       "      <td>372.55</td>\n",
       "    </tr>\n",
       "    <tr>\n",
       "      <th>18</th>\n",
       "      <td>Octane</td>\n",
       "      <td>114.220</td>\n",
       "      <td>125.7</td>\n",
       "      <td>399.85</td>\n",
       "    </tr>\n",
       "    <tr>\n",
       "      <th>19</th>\n",
       "      <td>Nonane</td>\n",
       "      <td>128.250</td>\n",
       "      <td>150.8</td>\n",
       "      <td>424.95</td>\n",
       "    </tr>\n",
       "    <tr>\n",
       "      <th>20</th>\n",
       "      <td>Decane</td>\n",
       "      <td>142.280</td>\n",
       "      <td>174.1</td>\n",
       "      <td>448.25</td>\n",
       "    </tr>\n",
       "    <tr>\n",
       "      <th>21</th>\n",
       "      <td>Caffeine</td>\n",
       "      <td>194.190</td>\n",
       "      <td>178.0</td>\n",
       "      <td>452.15</td>\n",
       "    </tr>\n",
       "    <tr>\n",
       "      <th>22</th>\n",
       "      <td>Ethane</td>\n",
       "      <td>30.070</td>\n",
       "      <td>-88.6</td>\n",
       "      <td>185.55</td>\n",
       "    </tr>\n",
       "  </tbody>\n",
       "</table>\n",
       "</div>"
      ],
      "text/plain": [
       "             molecule   weight  boiling_point_celsius  boiling_point_kelvin\n",
       "0               Water   18.015                  100.0                374.15\n",
       "1      Carbon Dioxide   44.010                  -78.5                195.65\n",
       "2             Methane   16.040                 -161.5                112.65\n",
       "3             Ethanol   46.070                   78.3                352.45\n",
       "4              Oxygen   32.000                 -183.0                 91.15\n",
       "5            Nitrogen   28.010                 -196.0                 78.15\n",
       "6   Hydrogen Peroxide   34.010                  150.2                424.35\n",
       "7             Ammonia   17.030                  -33.3                240.85\n",
       "8       Sulfuric Acid   98.090                  337.0                611.15\n",
       "9         Acetic Acid   60.050                  118.1                392.25\n",
       "10           Methanol   32.040                   64.7                338.85\n",
       "11            Benzene   78.110                   80.1                354.25\n",
       "12           Ethylene   28.050                 -103.7                170.45\n",
       "13            Propane   44.100                  -42.1                232.05\n",
       "14             Butane   58.120                   -0.5                273.65\n",
       "15            Pentane   72.150                   36.1                310.25\n",
       "16             Hexane   86.180                   68.7                342.85\n",
       "17            Heptane  100.200                   98.4                372.55\n",
       "18             Octane  114.220                  125.7                399.85\n",
       "19             Nonane  128.250                  150.8                424.95\n",
       "20             Decane  142.280                  174.1                448.25\n",
       "21           Caffeine  194.190                  178.0                452.15\n",
       "22             Ethane   30.070                  -88.6                185.55"
      ]
     },
     "execution_count": 50,
     "metadata": {},
     "output_type": "execute_result"
    }
   ],
   "source": [
    "# Adding a column of transformed data\n",
    "df[\"boiling_point_kelvin\"] = df[\"boiling_point_celsius\"].apply(lambda x: x + 274.15)\n",
    "df"
   ]
  },
  {
   "cell_type": "code",
   "execution_count": 51,
   "metadata": {},
   "outputs": [
    {
     "data": {
      "text/html": [
       "<div>\n",
       "<style scoped>\n",
       "    .dataframe tbody tr th:only-of-type {\n",
       "        vertical-align: middle;\n",
       "    }\n",
       "\n",
       "    .dataframe tbody tr th {\n",
       "        vertical-align: top;\n",
       "    }\n",
       "\n",
       "    .dataframe thead th {\n",
       "        text-align: right;\n",
       "    }\n",
       "</style>\n",
       "<table border=\"1\" class=\"dataframe\">\n",
       "  <thead>\n",
       "    <tr style=\"text-align: right;\">\n",
       "      <th></th>\n",
       "      <th>molecule</th>\n",
       "      <th>weight</th>\n",
       "      <th>boiling_point_celsius</th>\n",
       "      <th>boiling_point_kelvin</th>\n",
       "    </tr>\n",
       "  </thead>\n",
       "  <tbody>\n",
       "    <tr>\n",
       "      <th>5</th>\n",
       "      <td>Nitrogen</td>\n",
       "      <td>28.010</td>\n",
       "      <td>-196.0</td>\n",
       "      <td>78.15</td>\n",
       "    </tr>\n",
       "    <tr>\n",
       "      <th>4</th>\n",
       "      <td>Oxygen</td>\n",
       "      <td>32.000</td>\n",
       "      <td>-183.0</td>\n",
       "      <td>91.15</td>\n",
       "    </tr>\n",
       "    <tr>\n",
       "      <th>2</th>\n",
       "      <td>Methane</td>\n",
       "      <td>16.040</td>\n",
       "      <td>-161.5</td>\n",
       "      <td>112.65</td>\n",
       "    </tr>\n",
       "    <tr>\n",
       "      <th>12</th>\n",
       "      <td>Ethylene</td>\n",
       "      <td>28.050</td>\n",
       "      <td>-103.7</td>\n",
       "      <td>170.45</td>\n",
       "    </tr>\n",
       "    <tr>\n",
       "      <th>22</th>\n",
       "      <td>Ethane</td>\n",
       "      <td>30.070</td>\n",
       "      <td>-88.6</td>\n",
       "      <td>185.55</td>\n",
       "    </tr>\n",
       "    <tr>\n",
       "      <th>1</th>\n",
       "      <td>Carbon Dioxide</td>\n",
       "      <td>44.010</td>\n",
       "      <td>-78.5</td>\n",
       "      <td>195.65</td>\n",
       "    </tr>\n",
       "    <tr>\n",
       "      <th>13</th>\n",
       "      <td>Propane</td>\n",
       "      <td>44.100</td>\n",
       "      <td>-42.1</td>\n",
       "      <td>232.05</td>\n",
       "    </tr>\n",
       "    <tr>\n",
       "      <th>7</th>\n",
       "      <td>Ammonia</td>\n",
       "      <td>17.030</td>\n",
       "      <td>-33.3</td>\n",
       "      <td>240.85</td>\n",
       "    </tr>\n",
       "    <tr>\n",
       "      <th>14</th>\n",
       "      <td>Butane</td>\n",
       "      <td>58.120</td>\n",
       "      <td>-0.5</td>\n",
       "      <td>273.65</td>\n",
       "    </tr>\n",
       "    <tr>\n",
       "      <th>15</th>\n",
       "      <td>Pentane</td>\n",
       "      <td>72.150</td>\n",
       "      <td>36.1</td>\n",
       "      <td>310.25</td>\n",
       "    </tr>\n",
       "    <tr>\n",
       "      <th>10</th>\n",
       "      <td>Methanol</td>\n",
       "      <td>32.040</td>\n",
       "      <td>64.7</td>\n",
       "      <td>338.85</td>\n",
       "    </tr>\n",
       "    <tr>\n",
       "      <th>16</th>\n",
       "      <td>Hexane</td>\n",
       "      <td>86.180</td>\n",
       "      <td>68.7</td>\n",
       "      <td>342.85</td>\n",
       "    </tr>\n",
       "    <tr>\n",
       "      <th>3</th>\n",
       "      <td>Ethanol</td>\n",
       "      <td>46.070</td>\n",
       "      <td>78.3</td>\n",
       "      <td>352.45</td>\n",
       "    </tr>\n",
       "    <tr>\n",
       "      <th>11</th>\n",
       "      <td>Benzene</td>\n",
       "      <td>78.110</td>\n",
       "      <td>80.1</td>\n",
       "      <td>354.25</td>\n",
       "    </tr>\n",
       "    <tr>\n",
       "      <th>17</th>\n",
       "      <td>Heptane</td>\n",
       "      <td>100.200</td>\n",
       "      <td>98.4</td>\n",
       "      <td>372.55</td>\n",
       "    </tr>\n",
       "    <tr>\n",
       "      <th>0</th>\n",
       "      <td>Water</td>\n",
       "      <td>18.015</td>\n",
       "      <td>100.0</td>\n",
       "      <td>374.15</td>\n",
       "    </tr>\n",
       "    <tr>\n",
       "      <th>9</th>\n",
       "      <td>Acetic Acid</td>\n",
       "      <td>60.050</td>\n",
       "      <td>118.1</td>\n",
       "      <td>392.25</td>\n",
       "    </tr>\n",
       "    <tr>\n",
       "      <th>18</th>\n",
       "      <td>Octane</td>\n",
       "      <td>114.220</td>\n",
       "      <td>125.7</td>\n",
       "      <td>399.85</td>\n",
       "    </tr>\n",
       "    <tr>\n",
       "      <th>6</th>\n",
       "      <td>Hydrogen Peroxide</td>\n",
       "      <td>34.010</td>\n",
       "      <td>150.2</td>\n",
       "      <td>424.35</td>\n",
       "    </tr>\n",
       "    <tr>\n",
       "      <th>19</th>\n",
       "      <td>Nonane</td>\n",
       "      <td>128.250</td>\n",
       "      <td>150.8</td>\n",
       "      <td>424.95</td>\n",
       "    </tr>\n",
       "    <tr>\n",
       "      <th>20</th>\n",
       "      <td>Decane</td>\n",
       "      <td>142.280</td>\n",
       "      <td>174.1</td>\n",
       "      <td>448.25</td>\n",
       "    </tr>\n",
       "    <tr>\n",
       "      <th>21</th>\n",
       "      <td>Caffeine</td>\n",
       "      <td>194.190</td>\n",
       "      <td>178.0</td>\n",
       "      <td>452.15</td>\n",
       "    </tr>\n",
       "    <tr>\n",
       "      <th>8</th>\n",
       "      <td>Sulfuric Acid</td>\n",
       "      <td>98.090</td>\n",
       "      <td>337.0</td>\n",
       "      <td>611.15</td>\n",
       "    </tr>\n",
       "  </tbody>\n",
       "</table>\n",
       "</div>"
      ],
      "text/plain": [
       "             molecule   weight  boiling_point_celsius  boiling_point_kelvin\n",
       "5            Nitrogen   28.010                 -196.0                 78.15\n",
       "4              Oxygen   32.000                 -183.0                 91.15\n",
       "2             Methane   16.040                 -161.5                112.65\n",
       "12           Ethylene   28.050                 -103.7                170.45\n",
       "22             Ethane   30.070                  -88.6                185.55\n",
       "1      Carbon Dioxide   44.010                  -78.5                195.65\n",
       "13            Propane   44.100                  -42.1                232.05\n",
       "7             Ammonia   17.030                  -33.3                240.85\n",
       "14             Butane   58.120                   -0.5                273.65\n",
       "15            Pentane   72.150                   36.1                310.25\n",
       "10           Methanol   32.040                   64.7                338.85\n",
       "16             Hexane   86.180                   68.7                342.85\n",
       "3             Ethanol   46.070                   78.3                352.45\n",
       "11            Benzene   78.110                   80.1                354.25\n",
       "17            Heptane  100.200                   98.4                372.55\n",
       "0               Water   18.015                  100.0                374.15\n",
       "9         Acetic Acid   60.050                  118.1                392.25\n",
       "18             Octane  114.220                  125.7                399.85\n",
       "6   Hydrogen Peroxide   34.010                  150.2                424.35\n",
       "19             Nonane  128.250                  150.8                424.95\n",
       "20             Decane  142.280                  174.1                448.25\n",
       "21           Caffeine  194.190                  178.0                452.15\n",
       "8       Sulfuric Acid   98.090                  337.0                611.15"
      ]
     },
     "execution_count": 51,
     "metadata": {},
     "output_type": "execute_result"
    }
   ],
   "source": [
    "# Sort by boiling point, low to high\n",
    "df.sort_values(by=\"boiling_point_celsius\")"
   ]
  },
  {
   "cell_type": "code",
   "execution_count": 52,
   "metadata": {},
   "outputs": [
    {
     "data": {
      "text/html": [
       "<div>\n",
       "<style scoped>\n",
       "    .dataframe tbody tr th:only-of-type {\n",
       "        vertical-align: middle;\n",
       "    }\n",
       "\n",
       "    .dataframe tbody tr th {\n",
       "        vertical-align: top;\n",
       "    }\n",
       "\n",
       "    .dataframe thead th {\n",
       "        text-align: right;\n",
       "    }\n",
       "</style>\n",
       "<table border=\"1\" class=\"dataframe\">\n",
       "  <thead>\n",
       "    <tr style=\"text-align: right;\">\n",
       "      <th></th>\n",
       "      <th>molecule</th>\n",
       "      <th>weight</th>\n",
       "      <th>boiling_point_celsius</th>\n",
       "      <th>boiling_point_kelvin</th>\n",
       "    </tr>\n",
       "  </thead>\n",
       "  <tbody>\n",
       "    <tr>\n",
       "      <th>8</th>\n",
       "      <td>Sulfuric Acid</td>\n",
       "      <td>98.090</td>\n",
       "      <td>337.0</td>\n",
       "      <td>611.15</td>\n",
       "    </tr>\n",
       "    <tr>\n",
       "      <th>21</th>\n",
       "      <td>Caffeine</td>\n",
       "      <td>194.190</td>\n",
       "      <td>178.0</td>\n",
       "      <td>452.15</td>\n",
       "    </tr>\n",
       "    <tr>\n",
       "      <th>20</th>\n",
       "      <td>Decane</td>\n",
       "      <td>142.280</td>\n",
       "      <td>174.1</td>\n",
       "      <td>448.25</td>\n",
       "    </tr>\n",
       "    <tr>\n",
       "      <th>19</th>\n",
       "      <td>Nonane</td>\n",
       "      <td>128.250</td>\n",
       "      <td>150.8</td>\n",
       "      <td>424.95</td>\n",
       "    </tr>\n",
       "    <tr>\n",
       "      <th>6</th>\n",
       "      <td>Hydrogen Peroxide</td>\n",
       "      <td>34.010</td>\n",
       "      <td>150.2</td>\n",
       "      <td>424.35</td>\n",
       "    </tr>\n",
       "    <tr>\n",
       "      <th>18</th>\n",
       "      <td>Octane</td>\n",
       "      <td>114.220</td>\n",
       "      <td>125.7</td>\n",
       "      <td>399.85</td>\n",
       "    </tr>\n",
       "    <tr>\n",
       "      <th>9</th>\n",
       "      <td>Acetic Acid</td>\n",
       "      <td>60.050</td>\n",
       "      <td>118.1</td>\n",
       "      <td>392.25</td>\n",
       "    </tr>\n",
       "    <tr>\n",
       "      <th>0</th>\n",
       "      <td>Water</td>\n",
       "      <td>18.015</td>\n",
       "      <td>100.0</td>\n",
       "      <td>374.15</td>\n",
       "    </tr>\n",
       "    <tr>\n",
       "      <th>17</th>\n",
       "      <td>Heptane</td>\n",
       "      <td>100.200</td>\n",
       "      <td>98.4</td>\n",
       "      <td>372.55</td>\n",
       "    </tr>\n",
       "    <tr>\n",
       "      <th>11</th>\n",
       "      <td>Benzene</td>\n",
       "      <td>78.110</td>\n",
       "      <td>80.1</td>\n",
       "      <td>354.25</td>\n",
       "    </tr>\n",
       "    <tr>\n",
       "      <th>3</th>\n",
       "      <td>Ethanol</td>\n",
       "      <td>46.070</td>\n",
       "      <td>78.3</td>\n",
       "      <td>352.45</td>\n",
       "    </tr>\n",
       "    <tr>\n",
       "      <th>16</th>\n",
       "      <td>Hexane</td>\n",
       "      <td>86.180</td>\n",
       "      <td>68.7</td>\n",
       "      <td>342.85</td>\n",
       "    </tr>\n",
       "    <tr>\n",
       "      <th>10</th>\n",
       "      <td>Methanol</td>\n",
       "      <td>32.040</td>\n",
       "      <td>64.7</td>\n",
       "      <td>338.85</td>\n",
       "    </tr>\n",
       "    <tr>\n",
       "      <th>15</th>\n",
       "      <td>Pentane</td>\n",
       "      <td>72.150</td>\n",
       "      <td>36.1</td>\n",
       "      <td>310.25</td>\n",
       "    </tr>\n",
       "    <tr>\n",
       "      <th>14</th>\n",
       "      <td>Butane</td>\n",
       "      <td>58.120</td>\n",
       "      <td>-0.5</td>\n",
       "      <td>273.65</td>\n",
       "    </tr>\n",
       "    <tr>\n",
       "      <th>7</th>\n",
       "      <td>Ammonia</td>\n",
       "      <td>17.030</td>\n",
       "      <td>-33.3</td>\n",
       "      <td>240.85</td>\n",
       "    </tr>\n",
       "    <tr>\n",
       "      <th>13</th>\n",
       "      <td>Propane</td>\n",
       "      <td>44.100</td>\n",
       "      <td>-42.1</td>\n",
       "      <td>232.05</td>\n",
       "    </tr>\n",
       "    <tr>\n",
       "      <th>1</th>\n",
       "      <td>Carbon Dioxide</td>\n",
       "      <td>44.010</td>\n",
       "      <td>-78.5</td>\n",
       "      <td>195.65</td>\n",
       "    </tr>\n",
       "    <tr>\n",
       "      <th>22</th>\n",
       "      <td>Ethane</td>\n",
       "      <td>30.070</td>\n",
       "      <td>-88.6</td>\n",
       "      <td>185.55</td>\n",
       "    </tr>\n",
       "    <tr>\n",
       "      <th>12</th>\n",
       "      <td>Ethylene</td>\n",
       "      <td>28.050</td>\n",
       "      <td>-103.7</td>\n",
       "      <td>170.45</td>\n",
       "    </tr>\n",
       "    <tr>\n",
       "      <th>2</th>\n",
       "      <td>Methane</td>\n",
       "      <td>16.040</td>\n",
       "      <td>-161.5</td>\n",
       "      <td>112.65</td>\n",
       "    </tr>\n",
       "    <tr>\n",
       "      <th>4</th>\n",
       "      <td>Oxygen</td>\n",
       "      <td>32.000</td>\n",
       "      <td>-183.0</td>\n",
       "      <td>91.15</td>\n",
       "    </tr>\n",
       "    <tr>\n",
       "      <th>5</th>\n",
       "      <td>Nitrogen</td>\n",
       "      <td>28.010</td>\n",
       "      <td>-196.0</td>\n",
       "      <td>78.15</td>\n",
       "    </tr>\n",
       "  </tbody>\n",
       "</table>\n",
       "</div>"
      ],
      "text/plain": [
       "             molecule   weight  boiling_point_celsius  boiling_point_kelvin\n",
       "8       Sulfuric Acid   98.090                  337.0                611.15\n",
       "21           Caffeine  194.190                  178.0                452.15\n",
       "20             Decane  142.280                  174.1                448.25\n",
       "19             Nonane  128.250                  150.8                424.95\n",
       "6   Hydrogen Peroxide   34.010                  150.2                424.35\n",
       "18             Octane  114.220                  125.7                399.85\n",
       "9         Acetic Acid   60.050                  118.1                392.25\n",
       "0               Water   18.015                  100.0                374.15\n",
       "17            Heptane  100.200                   98.4                372.55\n",
       "11            Benzene   78.110                   80.1                354.25\n",
       "3             Ethanol   46.070                   78.3                352.45\n",
       "16             Hexane   86.180                   68.7                342.85\n",
       "10           Methanol   32.040                   64.7                338.85\n",
       "15            Pentane   72.150                   36.1                310.25\n",
       "14             Butane   58.120                   -0.5                273.65\n",
       "7             Ammonia   17.030                  -33.3                240.85\n",
       "13            Propane   44.100                  -42.1                232.05\n",
       "1      Carbon Dioxide   44.010                  -78.5                195.65\n",
       "22             Ethane   30.070                  -88.6                185.55\n",
       "12           Ethylene   28.050                 -103.7                170.45\n",
       "2             Methane   16.040                 -161.5                112.65\n",
       "4              Oxygen   32.000                 -183.0                 91.15\n",
       "5            Nitrogen   28.010                 -196.0                 78.15"
      ]
     },
     "execution_count": 52,
     "metadata": {},
     "output_type": "execute_result"
    }
   ],
   "source": [
    "# Sort by boiling point, high to low\n",
    "df.sort_values(by=\"boiling_point_celsius\", ascending=False)"
   ]
  },
  {
   "cell_type": "markdown",
   "metadata": {},
   "source": [
    "## 3. Data Visualization with `matplotlib`\n",
    "\n",
    "**What it is**: Matplotlib is a plotting library for Python, providing an object-oriented API for embedding plots into applications. It's capable of producing a wide range of static, animated, and interactive visualizations in a variety of output formats.\n",
    "\n",
    "**Why it's used**: Matplotlib is the go-to library for creating graphs, charts, and figures in Python. It's highly customizable and can produce almost any kind of visualization you might need, from simple bar charts and line plots to complex scatter plots and histograms.\n",
    "\n",
    "**Usefulness in Chemical Sciences**: Visual representation of data is crucial in\n",
    "chemistry for understanding complex relationships, trends, and patterns. Matplotlib\n",
    "enables chemists to visualize experimental results, such as reaction rates or\n",
    "concentration changes over time, and to compare theoretical models with experimental\n",
    "data. It's also used in teaching to help explain complex concepts through visual aids.\n",
    "\n",
    "\n",
    "Let's plot some chemically-inspired data."
   ]
  },
  {
   "cell_type": "code",
   "execution_count": 53,
   "metadata": {},
   "outputs": [
    {
     "data": {
      "image/png": "[encoded data removed]",
      "text/plain": [
       "<Figure size 640x480 with 1 Axes>"
      ]
     },
     "metadata": {},
     "output_type": "display_data"
    }
   ],
   "source": [
    "elements = ['Li', 'Be', 'B', 'C', 'N', 'O', 'F', 'Ne']\n",
    "atomic_radii = [152, 112, 88, 77, 70, 66, 64, 58]  # in pm\n",
    "\n",
    "# Create a plot. Use a 'o' marker to plot scatter points\n",
    "fig, ax = plt.subplots()\n",
    "ax.plot(elements, atomic_radii, marker='o', linestyle='-', color='b')\n",
    "ax.set_title('Atomic Radii of the Elements in the Second Period')\n",
    "ax.set_xlabel('Element')\n",
    "ax.set_ylabel('Atomic Radii (pm)')\n",
    "ax.grid(True)"
   ]
  },
  {
   "cell_type": "code",
   "execution_count": 54,
   "metadata": {},
   "outputs": [
    {
     "data": {
      "text/plain": [
       "Text(0, 0.5, 'Ionization Energy (eV)')"
      ]
     },
     "execution_count": 54,
     "metadata": {},
     "output_type": "execute_result"
    },
    {
     "data": {
      "image/png": "[encoded data removed]",
      "text/plain": [
       "<Figure size 640x480 with 1 Axes>"
      ]
     },
     "metadata": {},
     "output_type": "display_data"
    }
   ],
   "source": [
    "elements = ['H', 'He', 'Li', 'Be']\n",
    "ionization_energies = [13.6, 24.6, 5.39, 9.32]  # in eV\n",
    "\n",
    "fig, ax = plt.subplots()\n",
    "ax.bar(elements, ionization_energies, color='green')\n",
    "ax.set_title('First Ionization Energies of Elements')\n",
    "ax.set_xlabel('Element')\n",
    "ax.set_ylabel('Ionization Energy (eV)')"
   ]
  },
  {
   "cell_type": "code",
   "execution_count": 55,
   "metadata": {},
   "outputs": [
    {
     "name": "stderr",
     "output_type": "stream",
     "text": [
      "C:\\Users\\gilli\\AppData\\Local\\Temp\\ipykernel_18388\\3212535295.py:24: SettingWithCopyWarning: \n",
      "A value is trying to be set on a copy of a slice from a DataFrame.\n",
      "Try using .loc[row_indexer,col_indexer] = value instead\n",
      "\n",
      "See the caveats in the documentation: https://pandas.pydata.org/pandas-docs/stable/user_guide/indexing.html#returning-a-view-versus-a-copy\n",
      "  hcarbons_df[\"num_carbons\"] = [hydrocarbons[name] for name in hcarbons_df[\"molecule\"]]\n"
     ]
    },
    {
     "data": {
      "text/html": [
       "<div>\n",
       "<style scoped>\n",
       "    .dataframe tbody tr th:only-of-type {\n",
       "        vertical-align: middle;\n",
       "    }\n",
       "\n",
       "    .dataframe tbody tr th {\n",
       "        vertical-align: top;\n",
       "    }\n",
       "\n",
       "    .dataframe thead th {\n",
       "        text-align: right;\n",
       "    }\n",
       "</style>\n",
       "<table border=\"1\" class=\"dataframe\">\n",
       "  <thead>\n",
       "    <tr style=\"text-align: right;\">\n",
       "      <th></th>\n",
       "      <th>molecule</th>\n",
       "      <th>weight</th>\n",
       "      <th>boiling_point_celsius</th>\n",
       "      <th>num_carbons</th>\n",
       "    </tr>\n",
       "  </thead>\n",
       "  <tbody>\n",
       "    <tr>\n",
       "      <th>2</th>\n",
       "      <td>Methane</td>\n",
       "      <td>16.04</td>\n",
       "      <td>-161.5</td>\n",
       "      <td>1</td>\n",
       "    </tr>\n",
       "    <tr>\n",
       "      <th>13</th>\n",
       "      <td>Propane</td>\n",
       "      <td>44.10</td>\n",
       "      <td>-42.1</td>\n",
       "      <td>3</td>\n",
       "    </tr>\n",
       "    <tr>\n",
       "      <th>14</th>\n",
       "      <td>Butane</td>\n",
       "      <td>58.12</td>\n",
       "      <td>-0.5</td>\n",
       "      <td>4</td>\n",
       "    </tr>\n",
       "    <tr>\n",
       "      <th>15</th>\n",
       "      <td>Pentane</td>\n",
       "      <td>72.15</td>\n",
       "      <td>36.1</td>\n",
       "      <td>5</td>\n",
       "    </tr>\n",
       "    <tr>\n",
       "      <th>16</th>\n",
       "      <td>Hexane</td>\n",
       "      <td>86.18</td>\n",
       "      <td>68.7</td>\n",
       "      <td>6</td>\n",
       "    </tr>\n",
       "    <tr>\n",
       "      <th>17</th>\n",
       "      <td>Heptane</td>\n",
       "      <td>100.20</td>\n",
       "      <td>98.4</td>\n",
       "      <td>7</td>\n",
       "    </tr>\n",
       "    <tr>\n",
       "      <th>18</th>\n",
       "      <td>Octane</td>\n",
       "      <td>114.22</td>\n",
       "      <td>125.7</td>\n",
       "      <td>8</td>\n",
       "    </tr>\n",
       "    <tr>\n",
       "      <th>19</th>\n",
       "      <td>Nonane</td>\n",
       "      <td>128.25</td>\n",
       "      <td>150.8</td>\n",
       "      <td>9</td>\n",
       "    </tr>\n",
       "    <tr>\n",
       "      <th>20</th>\n",
       "      <td>Decane</td>\n",
       "      <td>142.28</td>\n",
       "      <td>174.1</td>\n",
       "      <td>10</td>\n",
       "    </tr>\n",
       "    <tr>\n",
       "      <th>22</th>\n",
       "      <td>Ethane</td>\n",
       "      <td>30.07</td>\n",
       "      <td>-88.6</td>\n",
       "      <td>2</td>\n",
       "    </tr>\n",
       "  </tbody>\n",
       "</table>\n",
       "</div>"
      ],
      "text/plain": [
       "   molecule  weight  boiling_point_celsius  num_carbons\n",
       "2   Methane   16.04                 -161.5            1\n",
       "13  Propane   44.10                  -42.1            3\n",
       "14   Butane   58.12                   -0.5            4\n",
       "15  Pentane   72.15                   36.1            5\n",
       "16   Hexane   86.18                   68.7            6\n",
       "17  Heptane  100.20                   98.4            7\n",
       "18   Octane  114.22                  125.7            8\n",
       "19   Nonane  128.25                  150.8            9\n",
       "20   Decane  142.28                  174.1           10\n",
       "22   Ethane   30.07                  -88.6            2"
      ]
     },
     "metadata": {},
     "output_type": "display_data"
    },
    {
     "data": {
      "text/plain": [
       "Text(0, 0.5, 'Molecular Weight (g/mol)')"
      ]
     },
     "execution_count": 55,
     "metadata": {},
     "output_type": "execute_result"
    },
    {
     "data": {
      "image/png": "[encoded data removed]",
      "text/plain": [
       "<Figure size 640x480 with 1 Axes>"
      ]
     },
     "metadata": {},
     "output_type": "display_data"
    }
   ],
   "source": [
    "# Load the data from before\n",
    "file_path = \"molecular_data.txt\"\n",
    "df = pd.read_csv(file_path, names=[\"molecule\", \"weight\", \"boiling_point_celsius\"], skiprows=1)\n",
    "df\n",
    "\n",
    "# Create a sub-dataframe for the linear hydrocarbons. First, let's create a dictionary\n",
    "# to map the names to the number of carbons.\n",
    "hydrocarbons = {\n",
    "    \"Methane\": 1,\n",
    "    \"Ethane\": 2,\n",
    "    \"Propane\": 3,\n",
    "    \"Butane\": 4,\n",
    "    \"Pentane\": 5,\n",
    "    \"Hexane\": 6,\n",
    "    \"Heptane\": 7,\n",
    "    \"Octane\": 8,\n",
    "    \"Nonane\": 9,\n",
    "    \"Decane\": 10,\n",
    "\n",
    "}\n",
    "hcarbons_df = df[df[\"molecule\"].isin(hydrocarbons.keys())]\n",
    "\n",
    "# Add this as a column in the dataframe\n",
    "hcarbons_df[\"num_carbons\"] = [hydrocarbons[name] for name in hcarbons_df[\"molecule\"]]\n",
    "display(hcarbons_df)\n",
    "\n",
    "# Plot the molecular weight against the number of carbons\n",
    "fig, ax = plt.subplots()\n",
    "ax.scatter(hcarbons_df[\"num_carbons\"], hcarbons_df[\"weight\"])\n",
    "\n",
    "# Add axes titles and labels\n",
    "ax.set_xlabel(\"Number of carbons\")\n",
    "ax.set_ylabel(\"Molecular Weight (g/mol)\")"
   ]
  },
  {
   "cell_type": "code",
   "execution_count": 56,
   "metadata": {},
   "outputs": [
    {
     "data": {
      "text/plain": [
       "<matplotlib.legend.Legend at 0x23772cfd550>"
      ]
     },
     "execution_count": 56,
     "metadata": {},
     "output_type": "execute_result"
    },
    {
     "data": {
      "image/png": "[encoded data removed]",
      "text/plain": [
       "<Figure size 640x480 with 1 Axes>"
      ]
     },
     "metadata": {},
     "output_type": "display_data"
    }
   ],
   "source": [
    "# Plot both the molecular weight and boiling point on the same plot, using a secondary\n",
    "# axis\n",
    "fig, ax = plt.subplots()\n",
    "ax.scatter(hcarbons_df[\"num_carbons\"], hcarbons_df[\"weight\"], label=\"Molecular Weight (g/mol)\")\n",
    "ax.scatter(hcarbons_df[\"num_carbons\"], hcarbons_df[\"boiling_point_celsius\"], label=\"Boiling Point (°C)\")\n",
    "\n",
    "# Add a title and labels\n",
    "ax.set_xlabel(\"Number of carbons in hydrocarbon\")\n",
    "ax.set_ylabel(\"Molecular Weight (g/mol)\")\n",
    "ax.set_ylabel(\"Boiling Point (°C)\")\n",
    "ax.legend()"
   ]
  },
  {
   "cell_type": "code",
   "execution_count": 57,
   "metadata": {},
   "outputs": [
    {
     "data": {
      "text/plain": [
       "<matplotlib.legend.Legend at 0x2377351c390>"
      ]
     },
     "execution_count": 57,
     "metadata": {},
     "output_type": "execute_result"
    },
    {
     "data": {
      "image/png": "[encoded data removed]",
      "text/plain": [
       "<Figure size 640x480 with 1 Axes>"
      ]
     },
     "metadata": {},
     "output_type": "display_data"
    }
   ],
   "source": [
    "# Plot both the molecular weight and boiling point on the same plot, using a secondary\n",
    "# axis\n",
    "plt.scatter(hcarbons_df[\"num_carbons\"], hcarbons_df[\"weight\"], label=\"Molecular Weight (g/mol)\")\n",
    "plt.scatter(hcarbons_df[\"num_carbons\"], hcarbons_df[\"boiling_point_celsius\"], label=\"Boiling Point (°C)\")\n",
    "\n",
    "# Add a title and labels\n",
    "plt.xlabel(\"Number of carbons in hydrocarbon\")\n",
    "plt.ylabel(\"Molecular Weight (g/mol)\")\n",
    "plt.ylabel(\"Boiling Point (°C)\")\n",
    "plt.legend()"
   ]
  },
  {
   "cell_type": "markdown",
   "metadata": {},
   "source": [
    "Now it's your turn! \n",
    "\n",
    "1. Use a `Path` object to define the path to the reaction yield file from last week:\n",
    "   \"reaction_yields.txt\". This will be stored at relative path `../week_03/reaction_yields.txt`\n",
    "2. Create a `pandas` DataFrame by loading the data from this path\n",
    "2. Calculate the percentage yield, and add it as a new column in the DataFrame\n",
    "3. Plot a bar graph with `matplotlib`, where the x axis is the name of the scientist and\n",
    "   the y axis is the percentage yield.\n",
    "\n",
    "**Hint**: you'll need to inpsect the file to see what the ***delimiter*** is. Use the\n",
    "`pd.read_csv(...)` function with the `sep` (for the delimiter) and `skiprows` arguments."
   ]
  },
  {
   "cell_type": "code",
   "execution_count": 21,
   "metadata": {},
   "outputs": [
    {
     "data": {
      "text/html": [
       "<div>\n",
       "<style scoped>\n",
       "    .dataframe tbody tr th:only-of-type {\n",
       "        vertical-align: middle;\n",
       "    }\n",
       "\n",
       "    .dataframe tbody tr th {\n",
       "        vertical-align: top;\n",
       "    }\n",
       "\n",
       "    .dataframe thead th {\n",
       "        text-align: right;\n",
       "    }\n",
       "</style>\n",
       "<table border=\"1\" class=\"dataframe\">\n",
       "  <thead>\n",
       "    <tr style=\"text-align: right;\">\n",
       "      <th></th>\n",
       "      <th>Scientist Name</th>\n",
       "      <th>Theoretical Yield (g)</th>\n",
       "      <th>Actual Yield (g)</th>\n",
       "    </tr>\n",
       "  </thead>\n",
       "  <tbody>\n",
       "  </tbody>\n",
       "</table>\n",
       "</div>"
      ],
      "text/plain": [
       "Empty DataFrame\n",
       "Columns: [Scientist Name, Theoretical Yield (g), Actual Yield (g)]\n",
       "Index: []"
      ]
     },
     "execution_count": 21,
     "metadata": {},
     "output_type": "execute_result"
    }
   ],
   "source": [
    "from pathlib import Path\n",
    "import pandas as pd\n",
    "reaction_yields_path = Path(\"reaction_yields.txt\")\n",
    "df = pd.read_csv(reaction_yields_path,names=[\"Scientist Name\", \"Theoretical Yield (g)\", \"Actual Yield (g)\"], sep='\\t', skiprows =1)\n",
    "df\n"
   ]
  },
  {
   "cell_type": "markdown",
   "metadata": {},
   "source": [
    "## How about some real data?\n",
    "\n",
    "Do you have some data from a recent lab experiment, in `.csv`, `.xlsx`, or `.txt` file\n",
    "format?\n",
    "\n",
    "If so and if you have time, try to read it into a pandas DataFrame and make some plots.\n",
    "The TAs would love to hear about your experiments - speak to us and we'll see what cool\n",
    "plots we can make with what you've learned already :)"
   ]
  },
  {
   "cell_type": "markdown",
   "metadata": {},
   "source": [
    "## Optional: `scipy` and `seaborn`\n",
    "\n",
    "Two packages that have not been introduced here, but provide extra functionality on top\n",
    "of `numpy` and `matplotlib`, respectively, are `scipy` and `seaborn`. So that you're\n",
    "aware of them, here are short descriptions and code examples.\n",
    "\n",
    "#### SciPy: Enhancing NumPy for Scientific Computing\n",
    "\n",
    "While NumPy provides the foundational array data structure and basic operations for\n",
    "numerical computing in Python, SciPy builds upon this foundation to offer a\n",
    "comprehensive collection of algorithms for scientific computing. SciPy, short for\n",
    "Scientific Python, is a library that provides modules for optimization, linear algebra,\n",
    "integration, interpolation, special functions, FFT, signal and image processing, ODE\n",
    "solvers, and other tasks common in science and engineering. \n",
    "\n",
    "Essentially, SciPy takes the capabilities of NumPy to the next level by adding a vast\n",
    "array of mathematical functions and algorithms for data manipulation and analysis. It's\n",
    "particularly valuable for tasks that require complex mathematical computations, such as\n",
    "solving differential equations, finding numerical integrals, or optimizing functions.\n",
    "\n",
    "This example demonstrates how SciPy can be used to solve a linear system of equations,\n",
    "which is a common task in scientific computing. The system of equations we'll solve is:\n",
    "\n",
    "3x + 2y = 5\n",
    "\n",
    "4x - y = 2"
   ]
  },
  {
   "cell_type": "code",
   "execution_count": null,
   "metadata": {},
   "outputs": [],
   "source": [
    "# Plot the lines defined by the equations\n",
    "import matplotlib.pyplot as plt\n",
    "\n",
    "# Define the x values\n",
    "x = np.linspace(-10, 10, 100)\n",
    "y1 = 0.5 * (5 - 3 * x)\n",
    "y2 = 4 * x - 2\n",
    "\n",
    "fig, ax = plt.subplots()\n",
    "ax.plot(x, y1)\n",
    "ax.plot(x, y2)\n",
    "ax.set_xlabel(\"x\")\n",
    "ax.set_ylabel(\"y\")"
   ]
  },
  {
   "cell_type": "code",
   "execution_count": null,
   "metadata": {},
   "outputs": [],
   "source": [
    "# Un-comment and run to install scipy\n",
    "# !pip install scipy"
   ]
  },
  {
   "cell_type": "code",
   "execution_count": null,
   "metadata": {},
   "outputs": [],
   "source": [
    "import numpy as np\n",
    "from scipy import linalg\n",
    "\n",
    "# Coefficients of the equations\n",
    "A = np.array([[3, 2], [4, -1]])\n",
    "\n",
    "# Right-hand side values\n",
    "b = np.array([5, 2])\n",
    "\n",
    "# Solving for x and y\n",
    "x_intersect, y_intersect = linalg.solve(A, b)\n",
    "\n",
    "print(f'Solution: x = {x_intersect}, y = {y_intersect}')"
   ]
  },
  {
   "cell_type": "code",
   "execution_count": null,
   "metadata": {},
   "outputs": [],
   "source": [
    "# Re-plot the figure from above\n",
    "import matplotlib.pyplot as plt\n",
    "\n",
    "x = np.linspace(-10, 10, 100)\n",
    "y1 = 0.5 * (5 - 3 * x)\n",
    "y2 = 4 * x - 2\n",
    "\n",
    "fig, ax = plt.subplots()\n",
    "ax.plot(x, y1)\n",
    "ax.plot(x, y2)\n",
    "ax.set_xlabel(\"x\")\n",
    "ax.set_ylabel(\"y\")\n",
    "\n",
    "# Add the solution to the plot\n",
    "ax.axvline(x_intersect, linestyle=\"dashed\", color=\"gray\", label=f\"x = {x_intersect:.2f}\")\n",
    "ax.axhline(y_intersect, linestyle=\"dotted\", color=\"gray\", label=f\"y = {y_intersect:.2f}\")\n",
    "ax.legend()"
   ]
  },
  {
   "cell_type": "markdown",
   "metadata": {},
   "source": [
    "### Seaborn: Statistical Data Visualization\n",
    "\n",
    "Matplotlib is an incredibly flexible plotting library, allowing for the creation of a\n",
    "wide range of static, animated, and interactive plots. Seaborn builds on Matplotlib by\n",
    "providing a high-level interface for drawing attractive and informative statistical\n",
    "graphics. It is specifically designed to work well with pandas DataFrames, making it\n",
    "easier to visualize data from these structures. \n",
    "\n",
    "Seaborn simplifies the process of creating complex visualizations like heat maps, time\n",
    "series, and violin plots. It automatically applies default themes that are aesthetically\n",
    "pleasing and offers a rich set of options for customizing plots. Additionally, Seaborn\n",
    "includes functions for fitting and visualizing linear regression models, making it an\n",
    "invaluable tool for data analysis and exploration. By abstracting the complexity of\n",
    "Matplotlib, Seaborn enables researchers and data scientists to generate insights into\n",
    "their data through visualizations with less code.\n",
    "\n",
    "This example shows how Seaborn can be used to create a distribution plot, which is\n",
    "useful for visualizing the distribution of a dataset. We'll generate a random dataset\n",
    "using NumPy and then visualize it with Seaborn's distplot, which combines a histogram\n",
    "with a kernel density estimate (KDE)."
   ]
  },
  {
   "cell_type": "code",
   "execution_count": null,
   "metadata": {},
   "outputs": [],
   "source": [
    "# Un-comment and run to install seaborn\n",
    "# !pip install seaborn"
   ]
  },
  {
   "cell_type": "code",
   "execution_count": null,
   "metadata": {},
   "outputs": [],
   "source": [
    "import numpy as np\n",
    "import seaborn as sns\n",
    "import matplotlib.pyplot as plt\n",
    "\n",
    "# Generate a random dataset\n",
    "data = np.random.normal(loc=0, scale=1, size=1000)\n",
    "\n",
    "# Create a distribution plot\n",
    "sns.set(style=\"whitegrid\")  # Set the style for the plot\n",
    "sns.distplot(data, bins=30, kde=True, color=\"blue\")\n",
    "\n",
    "plt.title('Distribution Plot of Random Data')\n",
    "plt.xlabel('Value')\n",
    "plt.ylabel('Density')\n",
    "plt.show()"
   ]
  },
  {
   "cell_type": "code",
   "execution_count": null,
   "metadata": {},
   "outputs": [],
   "source": []
  }
 ],
 "metadata": {
  "kernelspec": {
   "display_name": "Python 3 (ipykernel)",
   "language": "python",
   "name": "python3"
  },
  "language_info": {
   "codemirror_mode": {
    "name": "ipython",
    "version": 3
   },
   "file_extension": ".py",
   "mimetype": "text/x-python",
   "name": "python",
   "nbconvert_exporter": "python",
   "pygments_lexer": "ipython3",
   "version": "3.11.5"
  }
 },
 "nbformat": 4,
 "nbformat_minor": 2
}
